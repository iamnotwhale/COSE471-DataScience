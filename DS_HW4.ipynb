{
 "cells": [
  {
   "cell_type": "markdown",
   "metadata": {
    "id": "6-cRJL5dOcF9"
   },
   "source": [
    "# HW4 - Data Analysis & Make Prediction Models\n",
    "\n",
    "#### Data Science in Korea University, Prof. Jaewoo Kang\n",
    "#### COSE471, Spring 2023\n",
    "#### Due : 5/3 (Wed)  11:59 PM"
   ]
  },
  {
   "cell_type": "markdown",
   "metadata": {
    "id": "rTEJaftjOcGE"
   },
   "source": [
    "## HW4 Guide\n",
    "- You need to fill out your code in ###YOUR CODE HERE### or #TODO.\n",
    "- The code results should be the same as the results displayed below the code or the format we gave in problem description.\n",
    "- When solving descriptive problems, both __Korean and English are available.__\n",
    "- The some libraries are already imported below. __But you should import more.__\n",
    "    - If you don't have some libraries, install it with pip or conda command. [Google will help you]"
   ]
  },
  {
   "cell_type": "markdown",
   "metadata": {
    "id": "INJoNlC2OcGF"
   },
   "source": [
    "## Scikit-learn\n",
    "- Scikit-learn is the most common python library in machine learning.\n",
    "- Let's port our work from matplotlib to scikit-learn.\n",
    "- We will use version 1.2.2\n",
    "\n",
    "<b>URL:</b> http://scikit-learn.org/\n",
    "<br/><b>Install guide:</b> \n",
    "\n",
    "\n",
    "```\n",
    "pip install scikit-learn==1.2.2\n",
    "```\n",
    "\n"
   ]
  },
  {
   "cell_type": "code",
   "execution_count": 1,
   "metadata": {
    "colab": {
     "base_uri": "https://localhost:8080/",
     "height": 366
    },
    "id": "uD3cwWVlcp25",
    "outputId": "a29d9cb8-ccea-416b-e8f3-9bf4002dedc4"
   },
   "outputs": [
    {
     "name": "stdout",
     "output_type": "stream",
     "text": [
      "Requirement already satisfied: scikit-learn==1.2.2 in d:\\anaconda\\lib\\site-packages (1.2.2)\n",
      "Requirement already satisfied: joblib>=1.1.1 in d:\\anaconda\\lib\\site-packages (from scikit-learn==1.2.2) (1.2.0)\n",
      "Requirement already satisfied: scipy>=1.3.2 in d:\\anaconda\\lib\\site-packages (from scikit-learn==1.2.2) (1.9.1)\n",
      "Requirement already satisfied: numpy>=1.17.3 in d:\\anaconda\\lib\\site-packages (from scikit-learn==1.2.2) (1.21.5)\n",
      "Requirement already satisfied: threadpoolctl>=2.0.0 in d:\\anaconda\\lib\\site-packages (from scikit-learn==1.2.2) (2.2.0)\n",
      "Note: you may need to restart the kernel to use updated packages.\n"
     ]
    }
   ],
   "source": [
    "pip install scikit-learn==1.2.2"
   ]
  },
  {
   "cell_type": "code",
   "execution_count": 1,
   "metadata": {
    "id": "eNio6hQpOcGF"
   },
   "outputs": [],
   "source": [
    "import csv\n",
    "import pandas as pd\n",
    "import numpy as np\n",
    "import matplotlib.pyplot as plt\n",
    "%matplotlib inline\n",
    "\n",
    "from sklearn.linear_model import LinearRegression\n",
    "from sklearn.metrics import mean_squared_error"
   ]
  },
  {
   "cell_type": "markdown",
   "metadata": {
    "id": "UxVL_QE8OcGK"
   },
   "source": [
    "## Problem1. Regression Model\n",
    "## -Amazon stock price prediction."
   ]
  },
  {
   "cell_type": "markdown",
   "metadata": {
    "id": "uHUntNauOcGL"
   },
   "source": [
    "### Problem 1-1\n",
    "- In this problem you will predict stock price only with price related data. People usually call it as Technical analysis.\n",
    "- Find best combination of parameters to predict next day price.\n",
    "- __Your MSE loss should be lower than 30.__"
   ]
  },
  {
   "cell_type": "code",
   "execution_count": 135,
   "metadata": {
    "colab": {
     "base_uri": "https://localhost:8080/",
     "height": 256
    },
    "id": "KGNB53NGOcGL",
    "outputId": "f3dfff2a-b7b1-480a-c71f-4caa200dd4ac"
   },
   "outputs": [
    {
     "name": "stdout",
     "output_type": "stream",
     "text": [
      "(5665, 7)\n"
     ]
    },
    {
     "data": {
      "text/html": [
       "<div>\n",
       "<style scoped>\n",
       "    .dataframe tbody tr th:only-of-type {\n",
       "        vertical-align: middle;\n",
       "    }\n",
       "\n",
       "    .dataframe tbody tr th {\n",
       "        vertical-align: top;\n",
       "    }\n",
       "\n",
       "    .dataframe thead th {\n",
       "        text-align: right;\n",
       "    }\n",
       "</style>\n",
       "<table border=\"1\" class=\"dataframe\">\n",
       "  <thead>\n",
       "    <tr style=\"text-align: right;\">\n",
       "      <th></th>\n",
       "      <th>Date</th>\n",
       "      <th>Open</th>\n",
       "      <th>High</th>\n",
       "      <th>Low</th>\n",
       "      <th>Close</th>\n",
       "      <th>Adj Close</th>\n",
       "      <th>Volume</th>\n",
       "    </tr>\n",
       "  </thead>\n",
       "  <tbody>\n",
       "    <tr>\n",
       "      <th>0</th>\n",
       "      <td>1997-05-15</td>\n",
       "      <td>2.437500</td>\n",
       "      <td>2.500000</td>\n",
       "      <td>1.927083</td>\n",
       "      <td>1.958333</td>\n",
       "      <td>1.958333</td>\n",
       "      <td>72156000</td>\n",
       "    </tr>\n",
       "    <tr>\n",
       "      <th>1</th>\n",
       "      <td>1997-05-16</td>\n",
       "      <td>1.968750</td>\n",
       "      <td>1.979167</td>\n",
       "      <td>1.708333</td>\n",
       "      <td>1.729167</td>\n",
       "      <td>1.729167</td>\n",
       "      <td>14700000</td>\n",
       "    </tr>\n",
       "    <tr>\n",
       "      <th>2</th>\n",
       "      <td>1997-05-19</td>\n",
       "      <td>1.760417</td>\n",
       "      <td>1.770833</td>\n",
       "      <td>1.625000</td>\n",
       "      <td>1.708333</td>\n",
       "      <td>1.708333</td>\n",
       "      <td>6106800</td>\n",
       "    </tr>\n",
       "    <tr>\n",
       "      <th>3</th>\n",
       "      <td>1997-05-20</td>\n",
       "      <td>1.729167</td>\n",
       "      <td>1.750000</td>\n",
       "      <td>1.635417</td>\n",
       "      <td>1.635417</td>\n",
       "      <td>1.635417</td>\n",
       "      <td>5467200</td>\n",
       "    </tr>\n",
       "    <tr>\n",
       "      <th>4</th>\n",
       "      <td>1997-05-21</td>\n",
       "      <td>1.635417</td>\n",
       "      <td>1.645833</td>\n",
       "      <td>1.375000</td>\n",
       "      <td>1.427083</td>\n",
       "      <td>1.427083</td>\n",
       "      <td>18853200</td>\n",
       "    </tr>\n",
       "  </tbody>\n",
       "</table>\n",
       "</div>"
      ],
      "text/plain": [
       "         Date      Open      High       Low     Close  Adj Close    Volume\n",
       "0  1997-05-15  2.437500  2.500000  1.927083  1.958333   1.958333  72156000\n",
       "1  1997-05-16  1.968750  1.979167  1.708333  1.729167   1.729167  14700000\n",
       "2  1997-05-19  1.760417  1.770833  1.625000  1.708333   1.708333   6106800\n",
       "3  1997-05-20  1.729167  1.750000  1.635417  1.635417   1.635417   5467200\n",
       "4  1997-05-21  1.635417  1.645833  1.375000  1.427083   1.427083  18853200"
      ]
     },
     "execution_count": 135,
     "metadata": {},
     "output_type": "execute_result"
    }
   ],
   "source": [
    "# TODO : load data 'AMZN.csv'\n",
    "##### Your Code Here ####\n",
    "raw_data = pd.read_csv(\"AMZN.csv\")\n",
    "\n",
    "\n",
    "print(raw_data.shape)\n",
    "raw_data.head()"
   ]
  },
  {
   "cell_type": "code",
   "execution_count": 136,
   "metadata": {},
   "outputs": [],
   "source": [
    "raw_data.drop(labels = ['Date'], axis = 1, inplace = True)\n"
   ]
  },
  {
   "cell_type": "markdown",
   "metadata": {
    "id": "cyojsqUPOcGL"
   },
   "source": [
    "<br/><br/>\n",
    "- We will use only __one kind of variable__ for __last 'lookback' days__ to predict next day close price.<br/>\n",
    "For example, if we set lookback days as 5, and use close price for our independent variable.<br/><br/>\n",
    "Close price of [1997-05-15, 1997-05-16, 1997-05-19, 1997-05-20, 1997-05-21] --> predict [1997-05-22] <br/><br/>"
   ]
  },
  {
   "cell_type": "code",
   "execution_count": 123,
   "metadata": {
    "colab": {
     "base_uri": "https://localhost:8080/",
     "height": 72
    },
    "id": "QJT_LsIrOcGL",
    "outputId": "f9a457e8-4260-4be5-9e72-c78d68d905ea"
   },
   "outputs": [
    {
     "data": {
      "text/plain": [
       "\"\\nTODO : make get_concated_data function.\\n       this function create x and y data\\n\\n@Function\\nget_concated_data\\n\\n@Inputs\\n__\\nraw_data : dataframe, full Amazon stock data.\\n     \\n\\n@Returns\\n___\\n\\nx_data \\n    : <class 'numpy.ndarray'>\\n    : crteated data should in shape of [len(raw_data)-lookback, lookback]\\n    : x_data should be made based on 'col_name', parameters of the function, variable we will use\\n    \\ny_data \\n    : <class 'numpy.ndarray'>\\n    : crteated data should in shape of [len(raw_data)-lookback]\\n    : y should be always made based on 'Close'.\\n\""
      ]
     },
     "execution_count": 123,
     "metadata": {},
     "output_type": "execute_result"
    }
   ],
   "source": [
    "\"\"\"\n",
    "TODO : make get_concated_data function.\n",
    "       this function create x and y data\n",
    "\n",
    "@Function\n",
    "get_concated_data\n",
    "\n",
    "@Inputs\n",
    "__\n",
    "raw_data : dataframe, full Amazon stock data.\n",
    "     \n",
    "\n",
    "@Returns\n",
    "___\n",
    "\n",
    "x_data \n",
    "    : <class 'numpy.ndarray'>\n",
    "    : crteated data should in shape of [len(raw_data)-lookback, lookback]\n",
    "    : x_data should be made based on 'col_name', parameters of the function, variable we will use\n",
    "    \n",
    "y_data \n",
    "    : <class 'numpy.ndarray'>\n",
    "    : crteated data should in shape of [len(raw_data)-lookback]\n",
    "    : y should be always made based on 'Close'.\n",
    "\"\"\""
   ]
  },
  {
   "cell_type": "code",
   "execution_count": 137,
   "metadata": {
    "id": "Z2YZv7KuOcGM"
   },
   "outputs": [],
   "source": [
    "# We will use only one kind of variable as a time series data\n",
    "def get_concated_data(raw_data, col_name, lookback):\n",
    "    x_datas = list()\n",
    "    y_datas = list()\n",
    "    # col_name : Variable to be used\n",
    "    col_data = raw_data[col_name].values\n",
    "    # aggregate target variable data for length of lookback days\n",
    "    \n",
    "    ##### Your Code Here ####\n",
    "\n",
    "    for i in range(len(col_data)-lookback):\n",
    "        lookback_list = col_data[i:i+lookback]\n",
    "        x_datas.append(lookback_list)\n",
    "        y_datas.append(raw_data['Close'][i+lookback])\n",
    "\n",
    "   ##########################    \n",
    "    x_data = np.asarray(x_datas)\n",
    "    y_data = np.asarray(y_datas)\n",
    "\n",
    "\n",
    "    return x_data, y_data"
   ]
  },
  {
   "cell_type": "code",
   "execution_count": 125,
   "metadata": {
    "colab": {
     "base_uri": "https://localhost:8080/",
     "height": 54
    },
    "id": "8cZcL_RrOcGM",
    "outputId": "954bed22-c841-496f-e58c-71205e7fad95"
   },
   "outputs": [
    {
     "data": {
      "text/plain": [
       "\"\\nTODO :  make split_data function which split train / test (8/2 rate)\\n\\n@Function\\nsplit_data\\n\\n@Inputs\\n__\\ndata : numpy array\\n     \\n@Returns\\n___\\nx_train, x_test, y_train, y_test\\n    :<class 'numpy.ndarray'>\\n\\n\""
      ]
     },
     "execution_count": 125,
     "metadata": {},
     "output_type": "execute_result"
    }
   ],
   "source": [
    "\"\"\"\n",
    "TODO :  make split_data function which split train / test (8/2 rate)\n",
    "\n",
    "@Function\n",
    "split_data\n",
    "\n",
    "@Inputs\n",
    "__\n",
    "data : numpy array\n",
    "     \n",
    "@Returns\n",
    "___\n",
    "x_train, x_test, y_train, y_test\n",
    "    :<class 'numpy.ndarray'>\n",
    "\n",
    "\"\"\""
   ]
  },
  {
   "cell_type": "code",
   "execution_count": 138,
   "metadata": {
    "id": "lzsgQX57OcGM"
   },
   "outputs": [],
   "source": [
    "def split_data(x,y): #시계열 데이터이므로 shuffle해서 나누면 안됨.\n",
    "    ##### Your Code Here ####\n",
    "    split_line = int(len(x) / 10 * 8)\n",
    "    x_train = x[:split_line]\n",
    "    x_test = x[split_line:]\n",
    "    y_train = y[:split_line]\n",
    "    y_test = y[split_line:]\n",
    "    \n",
    "\n",
    "    ###########################\n",
    "    return x_train, x_test, y_train, y_test"
   ]
  },
  {
   "cell_type": "code",
   "execution_count": 139,
   "metadata": {
    "colab": {
     "base_uri": "https://localhost:8080/"
    },
    "id": "yfdeBCykOcGM",
    "outputId": "41676032-5ed1-40b2-b24a-4257cc234e06"
   },
   "outputs": [
    {
     "data": {
      "text/plain": [
       "(array([[1.958333, 1.729167, 1.708333, 1.635417, 1.427083],\n",
       "        [1.729167, 1.708333, 1.635417, 1.427083, 1.395833],\n",
       "        [1.708333, 1.635417, 1.427083, 1.395833, 1.5     ],\n",
       "        [1.635417, 1.427083, 1.395833, 1.5     , 1.583333],\n",
       "        [1.427083, 1.395833, 1.5     , 1.583333, 1.53125 ],\n",
       "        [1.395833, 1.5     , 1.583333, 1.53125 , 1.505208],\n",
       "        [1.5     , 1.583333, 1.53125 , 1.505208, 1.5     ],\n",
       "        [1.583333, 1.53125 , 1.505208, 1.5     , 1.510417],\n",
       "        [1.53125 , 1.505208, 1.5     , 1.510417, 1.479167],\n",
       "        [1.505208, 1.5     , 1.510417, 1.479167, 1.416667]]),\n",
       " array([1.395833, 1.5     , 1.583333, 1.53125 , 1.505208, 1.5     ,\n",
       "        1.510417, 1.479167, 1.416667, 1.541667]))"
      ]
     },
     "execution_count": 139,
     "metadata": {},
     "output_type": "execute_result"
    }
   ],
   "source": [
    "x, y = get_concated_data(raw_data, 'Close', 5)\n",
    "x[:10], y[:10]"
   ]
  },
  {
   "cell_type": "code",
   "execution_count": 140,
   "metadata": {
    "colab": {
     "base_uri": "https://localhost:8080/"
    },
    "id": "H4pocjKiOcGM",
    "outputId": "ee38bfaa-d649-4ec7-9470-18015e8d6a0b",
    "scrolled": true
   },
   "outputs": [
    {
     "data": {
      "text/plain": [
       "((4528, 5), (4528,), (1132, 5), (1132,))"
      ]
     },
     "execution_count": 140,
     "metadata": {},
     "output_type": "execute_result"
    }
   ],
   "source": [
    "x_train, x_test, y_train, y_test = split_data(x, y)\n",
    "x_train.shape, y_train.shape, x_test.shape, y_test.shape"
   ]
  },
  {
   "cell_type": "markdown",
   "metadata": {
    "id": "WWSihEU6OcGN"
   },
   "source": [
    "### <br/>Problem 1-2 Find best parameter combination \n",
    "- You can choose which __columns to use__ as variable for __how many days__, and in which __polynomial space.__\n",
    "- Find the best combination of parameters to predict next day price.\n",
    "- __Find combination which makes MSE loss for train data lower than 6.__"
   ]
  },
  {
   "cell_type": "code",
   "execution_count": 129,
   "metadata": {
    "collapsed": true,
    "id": "D5_XyvG8OcGN",
    "jupyter": {
     "outputs_hidden": true
    }
   },
   "outputs": [],
   "source": [
    "# TODO : complete run_regression function\n",
    "# Hint : use api i gave below"
   ]
  },
  {
   "cell_type": "code",
   "execution_count": 143,
   "metadata": {
    "id": "AnqCwS5vOcGN"
   },
   "outputs": [],
   "source": [
    "from sklearn.preprocessing import PolynomialFeatures\n",
    "from sklearn import linear_model\n",
    "\n",
    "def run_regression(raw_data, column_name, lookback_days, poly_degree):\n",
    "    # performing regression analysis with specified parameters\n",
    "    x, y = get_concated_data(raw_data, column_name, lookback_days)\n",
    "    x_train, x_test, y_train, y_test = split_data(x, y)\n",
    "\n",
    "    ##### Your Code Here ####\n",
    "    # PolynomialRegression = \n",
    "    poly = PolynomialFeatures(degree = poly_degree)\n",
    "    X_train = poly.fit_transform(x_train)\n",
    "    X_test = poly.fit_transform(x_test)\n",
    "    y_train = y_train.reshape(-1, 1)\n",
    "    y_test = y_test.reshape(-1, 1)\n",
    "    \n",
    "    model = LinearRegression()\n",
    "    model.fit(X_train, y_train)\n",
    "    \n",
    "    train_pred = model.predict(X_train)\n",
    "    test_pred = model.predict(X_test)\n",
    "    ########################\n",
    "    print (\"MSE - Train %.4f\"%mean_squared_error(model.predict(X_train), y_train))\n",
    "    print (\"MSE - Test %.4f\"%mean_squared_error(model.predict(X_test), y_test))\n",
    "    \n",
    "    return test_pred, y_test, train_pred, y_train"
   ]
  },
  {
   "cell_type": "code",
   "execution_count": 144,
   "metadata": {
    "colab": {
     "base_uri": "https://localhost:8080/"
    },
    "id": "p2C2EDyOOcGN",
    "outputId": "c955111e-b9ea-4040-f959-d36c182aaed4"
   },
   "outputs": [
    {
     "name": "stdout",
     "output_type": "stream",
     "text": [
      "iteration :  0\n",
      "MSE - Train 11175.6963\n",
      "MSE - Test 1368521.7073\n",
      "MSE - Train 17.9950\n",
      "MSE - Test 851.3535\n",
      "MSE - Train 17.9809\n",
      "MSE - Test 1158.5061\n",
      "MSE - Train 17.9507\n",
      "MSE - Test 148975.8292\n",
      "MSE - Train 17.9440\n",
      "MSE - Test 7866393.8793\n",
      "MSE - Train 17.9420\n",
      "MSE - Test 512251245.6655\n",
      "MSE - Train 11175.8588\n",
      "MSE - Test 1368474.0813\n",
      "MSE - Train 17.9980\n",
      "MSE - Test 850.2948\n",
      "MSE - Train 17.9344\n",
      "MSE - Test 1486.4289\n",
      "MSE - Train 17.8791\n",
      "MSE - Test 198834.9429\n",
      "MSE - Train 17.7324\n",
      "MSE - Test 20647363.0003\n",
      "MSE - Train 17.6858\n",
      "MSE - Test 2260889451.8935\n",
      "MSE - Train 11176.0193\n",
      "MSE - Test 1368426.4255\n",
      "MSE - Train 18.0007\n",
      "MSE - Test 850.7014\n",
      "MSE - Train 17.9325\n",
      "MSE - Test 1522.7766\n",
      "MSE - Train 17.7963\n",
      "MSE - Test 211056.9078\n",
      "MSE - Train 17.4913\n",
      "MSE - Test 36985472.1870\n",
      "MSE - Train 17.2717\n",
      "MSE - Test 6310092820.1055\n",
      "MSE - Train 11176.1756\n",
      "MSE - Test 1368378.7158\n",
      "MSE - Train 17.9620\n",
      "MSE - Test 851.5705\n",
      "MSE - Train 17.8500\n",
      "MSE - Test 1445.8504\n",
      "MSE - Train 17.5971\n",
      "MSE - Test 240198.3898\n",
      "MSE - Train 17.0331\n",
      "MSE - Test 113312690.8975\n",
      "MSE - Train 16.4040\n",
      "MSE - Test 37837133229.1605\n",
      "MSE - Train 11196.4457\n",
      "MSE - Test 1369300.0133\n",
      "MSE - Train 17.9624\n",
      "MSE - Test 852.3155\n",
      "MSE - Train 17.8281\n",
      "MSE - Test 1570.5756\n",
      "MSE - Train 17.2627\n",
      "MSE - Test 356265.8487\n",
      "MSE - Train 16.4297\n",
      "MSE - Test 126038036.4086\n",
      "MSE - Train 14.9293\n",
      "MSE - Test 172080336416.1873\n",
      "MSE - Train 11196.5905\n",
      "MSE - Test 1369252.1030\n",
      "MSE - Train 17.9657\n",
      "MSE - Test 852.7106\n",
      "MSE - Train 17.7274\n",
      "MSE - Test 2022.6287\n",
      "MSE - Train 16.8782\n",
      "MSE - Test 404936.7429\n",
      "MSE - Train 15.0786\n",
      "MSE - Test 310939238.3255\n",
      "MSE - Train 12.1828\n",
      "MSE - Test 350651237085.4260\n",
      "MSE - Train 11196.7390\n",
      "MSE - Test 1369204.2211\n",
      "MSE - Train 17.9580\n",
      "MSE - Test 854.3348\n",
      "MSE - Train 17.6012\n",
      "MSE - Test 2821.7502\n",
      "MSE - Train 16.4043\n",
      "MSE - Test 625490.6701\n",
      "MSE - Train 13.5832\n",
      "MSE - Test 817996026.5518\n",
      "MSE - Train 9.2561\n",
      "MSE - Test 1960103347449.6455\n",
      "MSE - Train 11196.8903\n",
      "MSE - Test 1369156.3580\n",
      "MSE - Train 17.9612\n",
      "MSE - Test 854.7387\n",
      "MSE - Train 17.5358\n",
      "MSE - Test 3117.0526\n",
      "MSE - Train 16.0854\n",
      "MSE - Test 846723.2365\n",
      "MSE - Train 11.7570\n",
      "MSE - Test 2371358986.0191\n",
      "MSE - Train 5.9215\n",
      "MSE - Test 18196894897488.9062\n",
      "MSE - Train 11197.0383\n",
      "MSE - Test 1369108.4504\n",
      "MSE - Train 17.9652\n",
      "MSE - Test 854.7668\n",
      "MSE - Train 17.4463\n",
      "MSE - Test 3886.9100\n",
      "MSE - Train 15.4852\n",
      "MSE - Test 2102293.4568\n",
      "MSE - Train 9.5269\n",
      "MSE - Test 6665674664.1722\n",
      "MSE - Train 2.7188\n",
      "MSE - Test 399014766043365.8750\n",
      "MSE - Train 11218.4067\n",
      "MSE - Test 1370023.1858\n",
      "MSE - Train 17.9874\n",
      "MSE - Test 854.4886\n",
      "MSE - Train 17.3795\n",
      "MSE - Test 4276.5704\n",
      "MSE - Train 14.7948\n",
      "MSE - Test 3162680.3090\n",
      "MSE - Train 7.5574\n",
      "MSE - Test 10563450018.8748\n",
      "MSE - Train 1.8126\n",
      "MSE - Test 41190420354005312.0000\n",
      "iteration :  1\n",
      "MSE - Train 11175.6963\n",
      "MSE - Test 1368521.7073\n",
      "MSE - Train 14.5452\n",
      "MSE - Test 685.1622\n",
      "MSE - Train 14.5333\n",
      "MSE - Test 992.6782\n",
      "MSE - Train 14.4473\n",
      "MSE - Test 361406.8210\n",
      "MSE - Train 14.4470\n",
      "MSE - Test 1221226.9216\n",
      "MSE - Train 14.4381\n",
      "MSE - Test 1731269405.7471\n",
      "MSE - Train 11175.8588\n",
      "MSE - Test 1368474.0813\n",
      "MSE - Train 14.4921\n",
      "MSE - Test 678.4203\n",
      "MSE - Train 14.3802\n",
      "MSE - Test 1029.1835\n",
      "MSE - Train 14.2873\n",
      "MSE - Test 354648.6711\n",
      "MSE - Train 13.9640\n",
      "MSE - Test 8745880.0013\n",
      "MSE - Train 13.9184\n",
      "MSE - Test 3035854218.9599\n",
      "MSE - Train 11176.0193\n",
      "MSE - Test 1368426.4255\n",
      "MSE - Train 14.4807\n",
      "MSE - Test 679.9891\n",
      "MSE - Train 14.2914\n",
      "MSE - Test 1282.8359\n",
      "MSE - Train 14.1110\n",
      "MSE - Test 321758.4620\n",
      "MSE - Train 13.7222\n",
      "MSE - Test 23461714.8996\n",
      "MSE - Train 13.5181\n",
      "MSE - Test 4899596913.2907\n",
      "MSE - Train 11176.1756\n",
      "MSE - Test 1368378.7158\n",
      "MSE - Train 14.4829\n",
      "MSE - Test 679.7708\n",
      "MSE - Train 14.2613\n",
      "MSE - Test 1411.2242\n",
      "MSE - Train 13.9614\n",
      "MSE - Test 312523.6756\n",
      "MSE - Train 13.4936\n",
      "MSE - Test 46420241.7447\n",
      "MSE - Train 13.0454\n",
      "MSE - Test 7227648009.2988\n",
      "MSE - Train 11196.4457\n",
      "MSE - Test 1369300.0133\n",
      "MSE - Train 14.4814\n",
      "MSE - Test 680.8988\n",
      "MSE - Train 14.2317\n",
      "MSE - Test 1433.3577\n",
      "MSE - Train 13.7329\n",
      "MSE - Test 281693.6391\n",
      "MSE - Train 12.9231\n",
      "MSE - Test 99883230.4436\n",
      "MSE - Train 11.7755\n",
      "MSE - Test 53533122906.7050\n",
      "MSE - Train 11196.5905\n",
      "MSE - Test 1369252.1030\n",
      "MSE - Train 14.4827\n",
      "MSE - Test 681.5983\n",
      "MSE - Train 14.2013\n",
      "MSE - Test 1401.4358\n",
      "MSE - Train 13.3955\n",
      "MSE - Test 283945.6113\n",
      "MSE - Train 12.1209\n",
      "MSE - Test 170699717.4801\n",
      "MSE - Train 9.9550\n",
      "MSE - Test 1285940072177.7964\n",
      "MSE - Train 11196.7390\n",
      "MSE - Test 1369204.2211\n",
      "MSE - Train 14.4839\n",
      "MSE - Test 681.8998\n",
      "MSE - Train 14.1525\n",
      "MSE - Test 1458.3532\n",
      "MSE - Train 13.0392\n",
      "MSE - Test 441410.8569\n",
      "MSE - Train 11.2127\n",
      "MSE - Test 384965723.0127\n",
      "MSE - Train 7.6288\n",
      "MSE - Test 2791746201075.2422\n",
      "MSE - Train 11196.8903\n",
      "MSE - Test 1369156.3580\n",
      "MSE - Train 14.4659\n",
      "MSE - Test 683.6024\n",
      "MSE - Train 14.0409\n",
      "MSE - Test 1720.3405\n",
      "MSE - Train 12.6343\n",
      "MSE - Test 571784.1537\n",
      "MSE - Train 9.6512\n",
      "MSE - Test 1068549513.0196\n",
      "MSE - Train 4.4317\n",
      "MSE - Test 7643068398465.7832\n",
      "MSE - Train 11197.0383\n",
      "MSE - Test 1369108.4504\n",
      "MSE - Train 14.4656\n",
      "MSE - Test 685.3775\n",
      "MSE - Train 13.9191\n",
      "MSE - Test 1849.9737\n",
      "MSE - Train 12.1250\n",
      "MSE - Test 830321.9782\n",
      "MSE - Train 8.0030\n",
      "MSE - Test 2767700997.6077\n",
      "MSE - Train 3.5786\n",
      "MSE - Test 76401850024455.7812\n",
      "MSE - Train 11218.4067\n",
      "MSE - Test 1370023.1858\n",
      "MSE - Train 14.4838\n",
      "MSE - Test 685.9460\n",
      "MSE - Train 13.8014\n",
      "MSE - Test 2267.9092\n",
      "MSE - Train 11.3982\n",
      "MSE - Test 1218799.1759\n",
      "MSE - Train 6.0694\n",
      "MSE - Test 6545730094.1609\n",
      "MSE - Train 0.6966\n",
      "MSE - Test 5202583861688810.0000\n",
      "iteration :  2\n",
      "MSE - Train 11175.6963\n",
      "MSE - Test 1368521.7073\n",
      "MSE - Train 13.9588\n",
      "MSE - Test 652.1830\n",
      "MSE - Train 13.8564\n",
      "MSE - Test 3169.7109\n",
      "MSE - Train 13.8559\n",
      "MSE - Test 10025.6035\n",
      "MSE - Train 13.8182\n",
      "MSE - Test 33757908.1095\n",
      "MSE - Train 13.8107\n",
      "MSE - Test 1896666752.5343\n",
      "MSE - Train 11175.8588\n",
      "MSE - Test 1368474.0813\n",
      "MSE - Train 13.9203\n",
      "MSE - Test 656.3439\n",
      "MSE - Train 13.7854\n",
      "MSE - Test 3248.1241\n",
      "MSE - Train 13.6212\n",
      "MSE - Test 45862.1835\n",
      "MSE - Train 13.5689\n",
      "MSE - Test 40036906.3212\n",
      "MSE - Train 13.5202\n",
      "MSE - Test 2770439714.5730\n",
      "MSE - Train 11176.0193\n",
      "MSE - Test 1368426.4255\n",
      "MSE - Train 13.8593\n",
      "MSE - Test 651.3022\n",
      "MSE - Train 13.6769\n",
      "MSE - Test 3168.2576\n",
      "MSE - Train 13.3958\n",
      "MSE - Test 64287.8615\n",
      "MSE - Train 13.2242\n",
      "MSE - Test 30085301.9723\n",
      "MSE - Train 13.0848\n",
      "MSE - Test 3613629361.7089\n",
      "MSE - Train 11176.1756\n",
      "MSE - Test 1368378.7158\n",
      "MSE - Train 13.8438\n",
      "MSE - Test 648.4008\n",
      "MSE - Train 13.6430\n",
      "MSE - Test 3077.9342\n",
      "MSE - Train 13.2654\n",
      "MSE - Test 113146.6541\n",
      "MSE - Train 12.9065\n",
      "MSE - Test 53362887.5428\n",
      "MSE - Train 12.5114\n",
      "MSE - Test 8160484331.5833\n",
      "MSE - Train 11196.4457\n",
      "MSE - Test 1369300.0133\n",
      "MSE - Train 13.8126\n",
      "MSE - Test 648.1365\n",
      "MSE - Train 13.4861\n",
      "MSE - Test 3231.0994\n",
      "MSE - Train 12.9936\n",
      "MSE - Test 124010.9027\n",
      "MSE - Train 12.3843\n",
      "MSE - Test 71470102.6810\n",
      "MSE - Train 11.3907\n",
      "MSE - Test 49808090959.0008\n",
      "MSE - Train 11196.5905\n",
      "MSE - Test 1369252.1030\n",
      "MSE - Train 13.8132\n",
      "MSE - Test 648.0733\n",
      "MSE - Train 13.4454\n",
      "MSE - Test 3239.6265\n",
      "MSE - Train 12.7707\n",
      "MSE - Test 186589.8014\n",
      "MSE - Train 11.4435\n",
      "MSE - Test 202248793.6327\n",
      "MSE - Train 8.8696\n",
      "MSE - Test 171091994642.5232\n",
      "MSE - Train 11196.7390\n",
      "MSE - Test 1369204.2211\n",
      "MSE - Train 13.8153\n",
      "MSE - Test 647.8755\n",
      "MSE - Train 13.4050\n",
      "MSE - Test 3421.3300\n",
      "MSE - Train 12.4677\n",
      "MSE - Test 423184.4954\n",
      "MSE - Train 10.0781\n",
      "MSE - Test 471701211.9677\n",
      "MSE - Train 6.7013\n",
      "MSE - Test 1146745855494.6685\n",
      "MSE - Train 11196.8903\n",
      "MSE - Test 1369156.3580\n",
      "MSE - Train 13.8183\n",
      "MSE - Test 647.9936\n",
      "MSE - Train 13.3595\n",
      "MSE - Test 3691.4238\n",
      "MSE - Train 12.1764\n",
      "MSE - Test 740680.3557\n",
      "MSE - Train 8.9400\n",
      "MSE - Test 1378678790.2438\n",
      "MSE - Train 4.4733\n",
      "MSE - Test 7518839158643.8252\n",
      "MSE - Train 11197.0383\n",
      "MSE - Test 1369108.4504\n",
      "MSE - Train 13.8180\n",
      "MSE - Test 645.0140\n",
      "MSE - Train 13.2985\n",
      "MSE - Test 3755.1417\n",
      "MSE - Train 11.6938\n",
      "MSE - Test 1343619.6598\n",
      "MSE - Train 7.2919\n",
      "MSE - Test 2750439528.3916\n",
      "MSE - Train 3.0744\n",
      "MSE - Test 269619387599765.5938\n",
      "MSE - Train 11218.4067\n",
      "MSE - Test 1370023.1858\n",
      "MSE - Train 13.8247\n",
      "MSE - Test 645.5012\n",
      "MSE - Train 13.2041\n",
      "MSE - Test 4086.8339\n",
      "MSE - Train 11.2324\n",
      "MSE - Test 1576041.7353\n",
      "MSE - Train 5.7234\n",
      "MSE - Test 7820791572.3626\n",
      "MSE - Train 2.2777\n",
      "MSE - Test 30041223920519748.0000\n",
      "iteration :  3\n",
      "MSE - Train 11175.6963\n",
      "MSE - Test 1368521.7073\n",
      "MSE - Train 11.5358\n",
      "MSE - Test 512.7001\n",
      "MSE - Train 11.5316\n",
      "MSE - Test 614.1234\n",
      "MSE - Train 11.5191\n",
      "MSE - Test 60926.8666\n",
      "MSE - Train 11.5123\n",
      "MSE - Test 7251852.7779\n",
      "MSE - Train 11.5078\n",
      "MSE - Test 1048076506.3471\n",
      "MSE - Train 11175.8588\n",
      "MSE - Test 1368474.0813\n",
      "MSE - Train 11.5344\n",
      "MSE - Test 512.4558\n",
      "MSE - Train 11.4995\n",
      "MSE - Test 597.4534\n",
      "MSE - Train 11.4084\n",
      "MSE - Test 103905.3706\n",
      "MSE - Train 11.2477\n",
      "MSE - Test 25494270.6251\n",
      "MSE - Train 11.2163\n",
      "MSE - Test 1910460021.6422\n",
      "MSE - Train 11176.0193\n",
      "MSE - Test 1368426.4255\n",
      "MSE - Train 11.5072\n",
      "MSE - Test 512.1150\n",
      "MSE - Train 11.3478\n",
      "MSE - Test 805.5377\n",
      "MSE - Train 11.2578\n",
      "MSE - Test 121680.5504\n",
      "MSE - Train 11.0832\n",
      "MSE - Test 30130303.4766\n",
      "MSE - Train 10.7362\n",
      "MSE - Test 2928090854.9620\n",
      "MSE - Train 11176.1756\n",
      "MSE - Test 1368378.7158\n",
      "MSE - Train 11.5097\n",
      "MSE - Test 512.1252\n",
      "MSE - Train 11.3250\n",
      "MSE - Test 817.5215\n",
      "MSE - Train 11.1382\n",
      "MSE - Test 128167.8717\n",
      "MSE - Train 10.7930\n",
      "MSE - Test 39778480.9911\n",
      "MSE - Train 10.4081\n",
      "MSE - Test 7479763615.8625\n",
      "MSE - Train 11196.4457\n",
      "MSE - Test 1369300.0133\n",
      "MSE - Train 11.5017\n",
      "MSE - Test 512.6305\n",
      "MSE - Train 11.2879\n",
      "MSE - Test 833.2797\n",
      "MSE - Train 10.9230\n",
      "MSE - Test 171431.7174\n",
      "MSE - Train 10.2280\n",
      "MSE - Test 39730315.8072\n",
      "MSE - Train 9.1454\n",
      "MSE - Test 79801901440.8604\n",
      "MSE - Train 11196.5905\n",
      "MSE - Test 1369252.1030\n",
      "MSE - Train 11.5039\n",
      "MSE - Test 512.9188\n",
      "MSE - Train 11.2317\n",
      "MSE - Test 1130.8396\n",
      "MSE - Train 10.5231\n",
      "MSE - Test 298060.8018\n",
      "MSE - Train 9.0789\n",
      "MSE - Test 86244960.9274\n",
      "MSE - Train 7.0405\n",
      "MSE - Test 747801071493.0062\n",
      "MSE - Train 11196.7390\n",
      "MSE - Test 1369204.2211\n",
      "MSE - Train 11.5064\n",
      "MSE - Test 512.9029\n",
      "MSE - Train 11.1662\n",
      "MSE - Test 1359.2968\n",
      "MSE - Train 10.1906\n",
      "MSE - Test 431251.2348\n",
      "MSE - Train 8.0904\n",
      "MSE - Test 280567325.7140\n",
      "MSE - Train 5.3597\n",
      "MSE - Test 1614357183759.7002\n",
      "MSE - Train 11196.8903\n",
      "MSE - Test 1369156.3580\n",
      "MSE - Train 11.5004\n",
      "MSE - Test 513.7747\n",
      "MSE - Train 11.1024\n",
      "MSE - Test 1566.6926\n",
      "MSE - Train 9.9091\n",
      "MSE - Test 695521.2693\n",
      "MSE - Train 7.0728\n",
      "MSE - Test 619130799.3061\n",
      "MSE - Train 3.5363\n",
      "MSE - Test 6508755345700.5566\n",
      "MSE - Train 11197.0383\n",
      "MSE - Test 1369108.4504\n",
      "MSE - Train 11.5028\n",
      "MSE - Test 514.0369\n",
      "MSE - Train 11.0560\n",
      "MSE - Test 1692.6453\n",
      "MSE - Train 9.4227\n",
      "MSE - Test 644387.2608\n",
      "MSE - Train 5.8589\n",
      "MSE - Test 3616344163.0556\n",
      "MSE - Train 1.8475\n",
      "MSE - Test 89804192557234.6250\n",
      "MSE - Train 11218.4067\n",
      "MSE - Test 1370023.1858\n",
      "MSE - Train 11.5105\n",
      "MSE - Test 514.6451\n",
      "MSE - Train 10.9897\n",
      "MSE - Test 1898.2812\n",
      "MSE - Train 8.8214\n",
      "MSE - Test 1057444.9447\n",
      "MSE - Train 4.5442\n",
      "MSE - Test 4543291487.5208\n",
      "MSE - Train 1.8613\n",
      "MSE - Test 18432680647886384.0000\n",
      "iteration :  4\n",
      "MSE - Train 11175.6963\n",
      "MSE - Test 1368521.7073\n",
      "MSE - Train 11.5358\n",
      "MSE - Test 512.7001\n",
      "MSE - Train 11.5316\n",
      "MSE - Test 614.1234\n",
      "MSE - Train 11.5191\n",
      "MSE - Test 60926.8666\n",
      "MSE - Train 11.5123\n",
      "MSE - Test 7251852.7779\n",
      "MSE - Train 11.5078\n",
      "MSE - Test 1048076506.3471\n",
      "MSE - Train 11175.8588\n",
      "MSE - Test 1368474.0813\n",
      "MSE - Train 11.5344\n",
      "MSE - Test 512.4558\n",
      "MSE - Train 11.4995\n",
      "MSE - Test 597.4534\n",
      "MSE - Train 11.4084\n",
      "MSE - Test 103905.3706\n",
      "MSE - Train 11.2477\n",
      "MSE - Test 25494270.6251\n",
      "MSE - Train 11.2163\n",
      "MSE - Test 1910460021.6422\n",
      "MSE - Train 11176.0193\n",
      "MSE - Test 1368426.4255\n",
      "MSE - Train 11.5072\n",
      "MSE - Test 512.1150\n",
      "MSE - Train 11.3478\n",
      "MSE - Test 805.5377\n",
      "MSE - Train 11.2578\n",
      "MSE - Test 121680.5504\n",
      "MSE - Train 11.0832\n",
      "MSE - Test 30130303.4766\n",
      "MSE - Train 10.7362\n",
      "MSE - Test 2928090854.9620\n",
      "MSE - Train 11176.1756\n",
      "MSE - Test 1368378.7158\n",
      "MSE - Train 11.5097\n",
      "MSE - Test 512.1252\n",
      "MSE - Train 11.3250\n",
      "MSE - Test 817.5215\n",
      "MSE - Train 11.1382\n",
      "MSE - Test 128167.8717\n",
      "MSE - Train 10.7930\n",
      "MSE - Test 39778480.9911\n",
      "MSE - Train 10.4081\n",
      "MSE - Test 7479763615.8625\n",
      "MSE - Train 11196.4457\n",
      "MSE - Test 1369300.0133\n",
      "MSE - Train 11.5017\n",
      "MSE - Test 512.6305\n",
      "MSE - Train 11.2879\n",
      "MSE - Test 833.2797\n",
      "MSE - Train 10.9230\n",
      "MSE - Test 171431.7174\n",
      "MSE - Train 10.2280\n",
      "MSE - Test 39730315.8072\n",
      "MSE - Train 9.1454\n",
      "MSE - Test 79801901440.8604\n",
      "MSE - Train 11196.5905\n",
      "MSE - Test 1369252.1030\n",
      "MSE - Train 11.5039\n",
      "MSE - Test 512.9188\n",
      "MSE - Train 11.2317\n",
      "MSE - Test 1130.8396\n",
      "MSE - Train 10.5231\n",
      "MSE - Test 298060.8018\n",
      "MSE - Train 9.0789\n",
      "MSE - Test 86244960.9274\n",
      "MSE - Train 7.0405\n",
      "MSE - Test 747801071493.0062\n",
      "MSE - Train 11196.7390\n",
      "MSE - Test 1369204.2211\n",
      "MSE - Train 11.5064\n",
      "MSE - Test 512.9029\n",
      "MSE - Train 11.1662\n",
      "MSE - Test 1359.2968\n",
      "MSE - Train 10.1906\n",
      "MSE - Test 431251.2348\n",
      "MSE - Train 8.0904\n",
      "MSE - Test 280567325.7140\n",
      "MSE - Train 5.3597\n",
      "MSE - Test 1614357183759.7002\n",
      "MSE - Train 11196.8903\n",
      "MSE - Test 1369156.3580\n",
      "MSE - Train 11.5004\n",
      "MSE - Test 513.7747\n",
      "MSE - Train 11.1024\n",
      "MSE - Test 1566.6926\n",
      "MSE - Train 9.9091\n",
      "MSE - Test 695521.2693\n",
      "MSE - Train 7.0728\n",
      "MSE - Test 619130799.3061\n",
      "MSE - Train 3.5363\n",
      "MSE - Test 6508755345700.5566\n",
      "MSE - Train 11197.0383\n",
      "MSE - Test 1369108.4504\n",
      "MSE - Train 11.5028\n",
      "MSE - Test 514.0369\n",
      "MSE - Train 11.0560\n",
      "MSE - Test 1692.6453\n",
      "MSE - Train 9.4227\n",
      "MSE - Test 644387.2608\n",
      "MSE - Train 5.8589\n",
      "MSE - Test 3616344163.0556\n",
      "MSE - Train 1.8475\n",
      "MSE - Test 89804192557234.6250\n",
      "MSE - Train 11218.4067\n",
      "MSE - Test 1370023.1858\n",
      "MSE - Train 11.5105\n",
      "MSE - Test 514.6451\n",
      "MSE - Train 10.9897\n",
      "MSE - Test 1898.2812\n",
      "MSE - Train 8.8214\n",
      "MSE - Test 1057444.9447\n",
      "MSE - Train 4.5442\n",
      "MSE - Test 4543291487.5208\n",
      "MSE - Train 1.8613\n",
      "MSE - Test 18432680647886384.0000\n",
      "iteration :  5\n",
      "MSE - Train 11175.6963\n",
      "MSE - Test 1368521.7073\n",
      "MSE - Train 10232.5046\n",
      "MSE - Test 1335936.0808\n",
      "MSE - Train 9507.0777\n",
      "MSE - Test 1312308.6486\n",
      "MSE - Train 10634.9988\n",
      "MSE - Test 1349164.8945\n",
      "MSE - Train 10996.7145\n",
      "MSE - Test 1362160.1720\n",
      "MSE - Train 11094.6639\n",
      "MSE - Test 1365706.6466\n",
      "MSE - Train 11175.8588\n",
      "MSE - Test 1368474.0813\n",
      "MSE - Train 10064.7365\n",
      "MSE - Test 1330067.3667\n",
      "MSE - Train 9183.9084\n",
      "MSE - Test 1301552.4498\n",
      "MSE - Train 10397.4671\n",
      "MSE - Test 1341073.5542\n",
      "MSE - Train 10879.3072\n",
      "MSE - Test 1357847.3027\n",
      "MSE - Train 11021.2993\n",
      "MSE - Test 1363094.6531\n",
      "MSE - Train 11176.0193\n",
      "MSE - Test 1368426.4255\n",
      "MSE - Train 9930.2843\n",
      "MSE - Test 1325386.5892\n",
      "MSE - Train 8934.0511\n",
      "MSE - Test 1293191.6496\n",
      "MSE - Train 10217.8674\n",
      "MSE - Test 1335073.9458\n",
      "MSE - Train 11861.9101\n",
      "MSE - Test 1351793.9259\n",
      "MSE - Train 11120.3990\n",
      "MSE - Test 1361502.1742\n",
      "MSE - Train 11176.1756\n",
      "MSE - Test 1368378.7158\n",
      "MSE - Train 9829.3896\n",
      "MSE - Test 1321860.2040\n",
      "MSE - Train 8725.3974\n",
      "MSE - Test 1286322.7392\n",
      "MSE - Train 11727.5373\n",
      "MSE - Test 1328464.3115\n",
      "MSE - Train 10712.4368\n",
      "MSE - Test 1346317.8505\n",
      "MSE - Train 10760.3747\n",
      "MSE - Test 1353658.2420\n",
      "MSE - Train 11196.4457\n",
      "MSE - Test 1369300.0133\n",
      "MSE - Train 9764.3208\n",
      "MSE - Test 1319930.8361\n",
      "MSE - Train 8577.9086\n",
      "MSE - Test 1281873.2122\n",
      "MSE - Train 11671.4092\n",
      "MSE - Test 1324324.4295\n",
      "MSE - Train 11433.1895\n",
      "MSE - Test 1340701.5821\n",
      "MSE - Train 17149.4338\n",
      "MSE - Test 1359155.3032\n",
      "MSE - Train 11196.5905\n",
      "MSE - Test 1369252.1030\n",
      "MSE - Train 9696.5511\n",
      "MSE - Test 1317563.5353\n",
      "MSE - Train 8437.8400\n",
      "MSE - Test 1277221.2692\n",
      "MSE - Train 9624.8904\n",
      "MSE - Test 1315300.2543\n",
      "MSE - Train 67906.9091\n",
      "MSE - Test 1360569.7355\n",
      "MSE - Train 13907.4870\n",
      "MSE - Test 1354445.2762\n",
      "MSE - Train 11196.7390\n",
      "MSE - Test 1369204.2211\n",
      "MSE - Train 9633.7302\n",
      "MSE - Test 1315379.9452\n",
      "MSE - Train 8274.2432\n",
      "MSE - Test 1271643.9077\n",
      "MSE - Train 9296.0139\n",
      "MSE - Test 1304277.2771\n",
      "MSE - Train 9762.1710\n",
      "MSE - Test 1319532.5300\n",
      "MSE - Train 15357.3415\n",
      "MSE - Test 1321201.9818\n",
      "MSE - Train 11196.8903\n",
      "MSE - Test 1369156.3580\n",
      "MSE - Train 9579.2363\n",
      "MSE - Test 1313484.4684\n",
      "MSE - Train 8138.0902\n",
      "MSE - Test 1267093.6442\n",
      "MSE - Train 9102.8445\n",
      "MSE - Test 1297656.7016\n",
      "MSE - Train 9215.8571\n",
      "MSE - Test 1302115.8489\n",
      "MSE - Train 8203.6715\n",
      "MSE - Test 1284303.7281\n",
      "MSE - Train 11197.0383\n",
      "MSE - Test 1369108.4504\n",
      "MSE - Train 9533.1244\n",
      "MSE - Test 1311876.0578\n",
      "MSE - Train 8030.4183\n",
      "MSE - Test 1263521.5360\n",
      "MSE - Train 8886.0090\n",
      "MSE - Test 1290174.5508\n",
      "MSE - Train 8613.6974\n",
      "MSE - Test 1283714.6710\n",
      "MSE - Train 10182.7698\n",
      "MSE - Test 1291592.7674\n",
      "MSE - Train 11218.4067\n",
      "MSE - Test 1370023.1858\n",
      "MSE - Train 9508.0074\n",
      "MSE - Test 1311308.4067\n",
      "MSE - Train 7939.0956\n",
      "MSE - Test 1260977.1198\n",
      "MSE - Train 8674.4650\n",
      "MSE - Test 1283630.9235\n",
      "MSE - Train 7887.2519\n",
      "MSE - Test 1266508.5498\n",
      "MSE - Train 4873.7814\n",
      "MSE - Test 1242891.6937\n"
     ]
    }
   ],
   "source": [
    "for_train_params = []\n",
    "best_test_params = []\n",
    "\n",
    "best_prediction = 10000 #initialize best_prediciton value\n",
    "iteration = 0\n",
    "for c in raw_data.columns:\n",
    "    print('iteration : ',iteration)\n",
    "    for l in range(1,11): # You can change the range\n",
    "        for d in range(6): # You can change the range\n",
    "            test_pred, y_test, train_pred, y_train = run_regression(raw_data, column_name=c, lookback_days=l, poly_degree=d)\n",
    "            if mean_squared_error(test_pred, y_test) < best_prediction:\n",
    "                best_prediction = mean_squared_error(test_pred, y_test)\n",
    "                best_test_params = [best_prediction, c, l,d]\n",
    "            if mean_squared_error(train_pred, y_train) < 6:\n",
    "                for_train_params.append([mean_squared_error(train_pred, y_train),c,l,d])\n",
    "    iteration += 1"
   ]
  },
  {
   "cell_type": "code",
   "execution_count": 145,
   "metadata": {
    "colab": {
     "base_uri": "https://localhost:8080/"
    },
    "id": "1HG_ziCDOcGN",
    "outputId": "593819a3-98e5-472e-9b4f-510c5b1cf499"
   },
   "outputs": [
    {
     "name": "stdout",
     "output_type": "stream",
     "text": [
      "MSE:   5.9215     | Varibale:         Open  |Lookback:    8  |Poly_degree:   5  \n",
      "MSE:   2.7188     | Varibale:         Open  |Lookback:    9  |Poly_degree:   5  \n",
      "MSE:   1.8126     | Varibale:         Open  |Lookback:   10  |Poly_degree:   5  \n",
      "MSE:   4.4317     | Varibale:         High  |Lookback:    8  |Poly_degree:   5  \n",
      "MSE:   3.5786     | Varibale:         High  |Lookback:    9  |Poly_degree:   5  \n",
      "MSE:   0.6966     | Varibale:         High  |Lookback:   10  |Poly_degree:   5  \n",
      "MSE:   4.4733     | Varibale:          Low  |Lookback:    8  |Poly_degree:   5  \n",
      "MSE:   3.0744     | Varibale:          Low  |Lookback:    9  |Poly_degree:   5  \n",
      "MSE:   5.7234     | Varibale:          Low  |Lookback:   10  |Poly_degree:   4  \n",
      "MSE:   2.2777     | Varibale:          Low  |Lookback:   10  |Poly_degree:   5  \n",
      "MSE:   5.3597     | Varibale:        Close  |Lookback:    7  |Poly_degree:   5  \n",
      "MSE:   3.5363     | Varibale:        Close  |Lookback:    8  |Poly_degree:   5  \n",
      "MSE:   5.8589     | Varibale:        Close  |Lookback:    9  |Poly_degree:   4  \n",
      "MSE:   1.8475     | Varibale:        Close  |Lookback:    9  |Poly_degree:   5  \n",
      "MSE:   4.5442     | Varibale:        Close  |Lookback:   10  |Poly_degree:   4  \n",
      "MSE:   1.8613     | Varibale:        Close  |Lookback:   10  |Poly_degree:   5  \n",
      "MSE:   5.3597     | Varibale:    Adj Close  |Lookback:    7  |Poly_degree:   5  \n",
      "MSE:   3.5363     | Varibale:    Adj Close  |Lookback:    8  |Poly_degree:   5  \n",
      "MSE:   5.8589     | Varibale:    Adj Close  |Lookback:    9  |Poly_degree:   4  \n",
      "MSE:   1.8475     | Varibale:    Adj Close  |Lookback:    9  |Poly_degree:   5  \n",
      "MSE:   4.5442     | Varibale:    Adj Close  |Lookback:   10  |Poly_degree:   4  \n",
      "MSE:   1.8613     | Varibale:    Adj Close  |Lookback:   10  |Poly_degree:   5  \n"
     ]
    }
   ],
   "source": [
    "for parameters in for_train_params:\n",
    "    MSE, variable, lookback, degree = parameters\n",
    "    print('MSE:   %.4f     | Varibale:   %10s  |Lookback:   %2s  |Poly_degree:   %s  '%(MSE, variable, lookback, degree))"
   ]
  },
  {
   "attachments": {},
   "cell_type": "markdown",
   "metadata": {
    "id": "-TmnvrsoOcGO"
   },
   "source": [
    "### Problem 1-3 \n",
    "Write Combination that you've found. (Train loss lower than 6) <br/><br/>\n",
    "Variable :       <br/>\n",
    "Lookback :       <br/>\n",
    "Poly_degree :       <br/>\n",
    "<br/>\n",
    "Varibale:         Open  |Lookback:    8  |Poly_degree:   5 <br/>\n",
    "Varibale:         Open  |Lookback:    9  |Poly_degree:   5 <br/>\n",
    "Varibale:         Open  |Lookback:   10  |Poly_degree:   5  <br/>\n",
    "Varibale:         High  |Lookback:    8  |Poly_degree:   5  <br/>\n",
    "Varibale:         High  |Lookback:    9  |Poly_degree:   5  <br/>\n",
    "Varibale:         High  |Lookback:   10  |Poly_degree:   5  <br/>\n",
    "Varibale:          Low  |Lookback:    8  |Poly_degree:   5  <br/>\n",
    "Varibale:          Low  |Lookback:    9  |Poly_degree:   5  <br/>\n",
    "Varibale:          Low  |Lookback:   10  |Poly_degree:   4  <br/>\n",
    "Varibale:          Low  |Lookback:   10  |Poly_degree:   5  <br/>\n",
    "Varibale:        Close  |Lookback:    7  |Poly_degree:   5  <br/>\n",
    "Varibale:        Close  |Lookback:    8  |Poly_degree:   5  <br/>\n",
    "Varibale:        Close  |Lookback:    9  |Poly_degree:   4  <br/>\n",
    "Varibale:        Close  |Lookback:    9  |Poly_degree:   5  <br/>\n",
    "Varibale:        Close  |Lookback:   10  |Poly_degree:   4  <br/>\n",
    "Varibale:        Close  |Lookback:   10  |Poly_degree:   5  <br/>\n",
    "Varibale:    Adj Close  |Lookback:    7  |Poly_degree:   5  <br/>\n",
    "Varibale:    Adj Close  |Lookback:    8  |Poly_degree:   5  <br/>\n",
    "Varibale:    Adj Close  |Lookback:    9  |Poly_degree:   4  <br/>\n",
    "Varibale:    Adj Close  |Lookback:    9  |Poly_degree:   5  <br/>\n",
    "Varibale:    Adj Close  |Lookback:   10  |Poly_degree:   4  <br/>\n",
    "Varibale:    Adj Close  |Lookback:   10  |Poly_degree:   5  <br/>"
   ]
  },
  {
   "cell_type": "markdown",
   "metadata": {
    "id": "o1ll4lFsOcGO"
   },
   "source": [
    "### Problem 1-4 Visualization\n",
    "- Visualize your predicton.\n",
    "- You can use code below with proper variable.\n",
    "- __Your best model's prediction --> best_pred.__"
   ]
  },
  {
   "cell_type": "code",
   "execution_count": 146,
   "metadata": {
    "colab": {
     "base_uri": "https://localhost:8080/"
    },
    "id": "WVFeP15pOcGO",
    "outputId": "56accb22-ffd5-432b-d38c-a2d1e868d5ef"
   },
   "outputs": [
    {
     "data": {
      "text/plain": [
       "[512.115008868854, 'Close', 3, 1]"
      ]
     },
     "execution_count": 146,
     "metadata": {},
     "output_type": "execute_result"
    }
   ],
   "source": [
    "best_test_params"
   ]
  },
  {
   "cell_type": "code",
   "execution_count": 148,
   "metadata": {
    "colab": {
     "base_uri": "https://localhost:8080/"
    },
    "id": "ruvs16WnOcGO",
    "outputId": "0d4f6885-8d0f-401a-abfb-6f20e2eabcf7"
   },
   "outputs": [
    {
     "name": "stdout",
     "output_type": "stream",
     "text": [
      "MSE - Train 11.5072\n",
      "MSE - Test 512.1150\n"
     ]
    }
   ],
   "source": [
    "# TODO : Assign your best prediction for test data to best_pred\n",
    "best_pred, y_test, train_pred, y_train = run_regression(raw_data, column_name='Close', lookback_days=3, poly_degree=1)"
   ]
  },
  {
   "cell_type": "code",
   "execution_count": 149,
   "metadata": {
    "colab": {
     "base_uri": "https://localhost:8080/",
     "height": 742
    },
    "id": "XzvphGspOcGO",
    "outputId": "c5dca940-3322-4214-a395-11e28e46613d"
   },
   "outputs": [
    {
     "data": {
      "image/png": "[encoded data removed]",
      "text/plain": [
       "<Figure size 640x480 with 1 Axes>"
      ]
     },
     "metadata": {},
     "output_type": "display_data"
    }
   ],
   "source": [
    "from matplotlib import pyplot as plt\n",
    "##### Your Code Here ####\n",
    "\n",
    "plt.plot(best_pred, label='prediction')\n",
    "plt.plot(y_test, label='target')\n",
    "plt.legend(loc='best')\n",
    "\n",
    "plt.show()"
   ]
  },
  {
   "cell_type": "markdown",
   "metadata": {
    "id": "Iw74i3ltOcGO"
   },
   "source": [
    "## Problem2. Classification Model : Sentiment Analysis (NLP)\n",
    "- Use amazon_cells_labelled.tsv data to solve your problem3"
   ]
  },
  {
   "cell_type": "code",
   "execution_count": 151,
   "metadata": {
    "id": "21HvIxcjOcGP"
   },
   "outputs": [],
   "source": [
    "import pandas as pd\n",
    "import numpy as np\n",
    "import matplotlib.pyplot as plt\n",
    "%matplotlib inline"
   ]
  },
  {
   "cell_type": "markdown",
   "metadata": {
    "id": "KmZ2lv7xOcGP"
   },
   "source": [
    "### Problem 2-1 Load Data\n",
    "- Load 'amazon_cells_labelled.tsv' and make pandas dataframe.\n",
    "- Print the shape of the data."
   ]
  },
  {
   "cell_type": "code",
   "execution_count": 152,
   "metadata": {
    "colab": {
     "base_uri": "https://localhost:8080/",
     "height": 225
    },
    "id": "TbBw_BnvOcGP",
    "outputId": "161ebe61-7f8b-426a-a685-62944e02a61d"
   },
   "outputs": [
    {
     "data": {
      "text/html": [
       "<div>\n",
       "<style scoped>\n",
       "    .dataframe tbody tr th:only-of-type {\n",
       "        vertical-align: middle;\n",
       "    }\n",
       "\n",
       "    .dataframe tbody tr th {\n",
       "        vertical-align: top;\n",
       "    }\n",
       "\n",
       "    .dataframe thead th {\n",
       "        text-align: right;\n",
       "    }\n",
       "</style>\n",
       "<table border=\"1\" class=\"dataframe\">\n",
       "  <thead>\n",
       "    <tr style=\"text-align: right;\">\n",
       "      <th></th>\n",
       "      <th>text</th>\n",
       "      <th>label</th>\n",
       "    </tr>\n",
       "  </thead>\n",
       "  <tbody>\n",
       "    <tr>\n",
       "      <th>0</th>\n",
       "      <td>So there is no way for me to plug it in here i...</td>\n",
       "      <td>0</td>\n",
       "    </tr>\n",
       "    <tr>\n",
       "      <th>1</th>\n",
       "      <td>Good case, Excellent value.</td>\n",
       "      <td>1</td>\n",
       "    </tr>\n",
       "    <tr>\n",
       "      <th>2</th>\n",
       "      <td>Great for the jawbone.</td>\n",
       "      <td>1</td>\n",
       "    </tr>\n",
       "    <tr>\n",
       "      <th>3</th>\n",
       "      <td>Tied to charger for conversations lasting more...</td>\n",
       "      <td>0</td>\n",
       "    </tr>\n",
       "    <tr>\n",
       "      <th>4</th>\n",
       "      <td>The mic is great.</td>\n",
       "      <td>1</td>\n",
       "    </tr>\n",
       "  </tbody>\n",
       "</table>\n",
       "</div>"
      ],
      "text/plain": [
       "                                                text  label\n",
       "0  So there is no way for me to plug it in here i...      0\n",
       "1                        Good case, Excellent value.      1\n",
       "2                             Great for the jawbone.      1\n",
       "3  Tied to charger for conversations lasting more...      0\n",
       "4                                  The mic is great.      1"
      ]
     },
     "execution_count": 152,
     "metadata": {},
     "output_type": "execute_result"
    }
   ],
   "source": [
    "### YOUR CODE HERE ###\n",
    "amazon_review = pd.read_csv(\"amazon_cells_labelled.tsv\", sep='\\t')\n",
    "########################\n",
    "\n",
    "amazon_review.head()\n"
   ]
  },
  {
   "cell_type": "markdown",
   "metadata": {
    "id": "66iSmCu4OcGP"
   },
   "source": [
    "### Problem 2-2 BOW (Bag Of Word)\n",
    "- Finish your make_review_bow function.\n",
    "- Make BOW using make_review_bow function.\n",
    "- Make BOW_df using BOW you made.\n",
    "    \n",
    "*hint: Refer to Tutorial code below*"
   ]
  },
  {
   "cell_type": "code",
   "execution_count": 153,
   "metadata": {
    "id": "8dw8yzJKOcGP"
   },
   "outputs": [],
   "source": [
    "from sklearn.feature_extraction.text import CountVectorizer"
   ]
  },
  {
   "cell_type": "code",
   "execution_count": 154,
   "metadata": {
    "colab": {
     "base_uri": "https://localhost:8080/",
     "height": 492
    },
    "id": "p1Z6irsEOcGP",
    "outputId": "ea54d286-3a9a-4df9-ae62-7657b44bf89b"
   },
   "outputs": [
    {
     "name": "stdout",
     "output_type": "stream",
     "text": [
      "# Original text is \n",
      " This is the first sentence.\n",
      "Creating BOW step by step.\n",
      "This is the last sentence.\n",
      "# Word Vector\n",
      "   (0, 3)\t1\n",
      "  (0, 4)\t1\n",
      "  (0, 6)\t1\n",
      "  (0, 8)\t1\n",
      "  (0, 9)\t1\n",
      "  (1, 0)\t1\n",
      "  (1, 1)\t1\n",
      "  (1, 2)\t1\n",
      "  (1, 7)\t2\n",
      "  (2, 4)\t1\n",
      "  (2, 5)\t1\n",
      "  (2, 6)\t1\n",
      "  (2, 8)\t1\n",
      "  (2, 9)\t1\n"
     ]
    },
    {
     "data": {
      "text/html": [
       "<div>\n",
       "<style scoped>\n",
       "    .dataframe tbody tr th:only-of-type {\n",
       "        vertical-align: middle;\n",
       "    }\n",
       "\n",
       "    .dataframe tbody tr th {\n",
       "        vertical-align: top;\n",
       "    }\n",
       "\n",
       "    .dataframe thead th {\n",
       "        text-align: right;\n",
       "    }\n",
       "</style>\n",
       "<table border=\"1\" class=\"dataframe\">\n",
       "  <thead>\n",
       "    <tr style=\"text-align: right;\">\n",
       "      <th></th>\n",
       "      <th>bow</th>\n",
       "      <th>by</th>\n",
       "      <th>creating</th>\n",
       "      <th>first</th>\n",
       "      <th>is</th>\n",
       "      <th>last</th>\n",
       "      <th>sentence</th>\n",
       "      <th>step</th>\n",
       "      <th>the</th>\n",
       "      <th>this</th>\n",
       "    </tr>\n",
       "  </thead>\n",
       "  <tbody>\n",
       "    <tr>\n",
       "      <th>0</th>\n",
       "      <td>0</td>\n",
       "      <td>0</td>\n",
       "      <td>0</td>\n",
       "      <td>1</td>\n",
       "      <td>1</td>\n",
       "      <td>0</td>\n",
       "      <td>1</td>\n",
       "      <td>0</td>\n",
       "      <td>1</td>\n",
       "      <td>1</td>\n",
       "    </tr>\n",
       "    <tr>\n",
       "      <th>1</th>\n",
       "      <td>1</td>\n",
       "      <td>1</td>\n",
       "      <td>1</td>\n",
       "      <td>0</td>\n",
       "      <td>0</td>\n",
       "      <td>0</td>\n",
       "      <td>0</td>\n",
       "      <td>2</td>\n",
       "      <td>0</td>\n",
       "      <td>0</td>\n",
       "    </tr>\n",
       "    <tr>\n",
       "      <th>2</th>\n",
       "      <td>0</td>\n",
       "      <td>0</td>\n",
       "      <td>0</td>\n",
       "      <td>0</td>\n",
       "      <td>1</td>\n",
       "      <td>1</td>\n",
       "      <td>1</td>\n",
       "      <td>0</td>\n",
       "      <td>1</td>\n",
       "      <td>1</td>\n",
       "    </tr>\n",
       "  </tbody>\n",
       "</table>\n",
       "</div>"
      ],
      "text/plain": [
       "   bow  by  creating  first  is  last  sentence  step  the  this\n",
       "0    0   0         0      1   1     0         1     0    1     1\n",
       "1    1   1         1      0   0     0         0     2    0     0\n",
       "2    0   0         0      0   1     1         1     0    1     1"
      ]
     },
     "execution_count": 154,
     "metadata": {},
     "output_type": "execute_result"
    }
   ],
   "source": [
    "#BOW Tutorial\n",
    "\n",
    "example_doc = [\n",
    "    'This is the first sentence.',\n",
    "    'Creating BOW step by step.',\n",
    "    'This is the last sentence.'\n",
    "]\n",
    "\n",
    "print ('# Original text is \\n', '\\n'.join(example_doc))\n",
    "\n",
    "vectorizer = CountVectorizer(min_df=0)\n",
    "\n",
    "vectorizer.fit(example_doc)\n",
    "x = vectorizer.transform(example_doc)\n",
    "print ('# Word Vector\\n', x)\n",
    "\n",
    "bow = x.toarray()\n",
    "\n",
    "bow_df = pd.DataFrame(bow, columns=vectorizer.get_feature_names_out())\n",
    "bow_df"
   ]
  },
  {
   "cell_type": "code",
   "execution_count": 155,
   "metadata": {
    "id": "ciyEpq7sOcGP"
   },
   "outputs": [],
   "source": [
    "\"\"\"\n",
    "@Function\n",
    "make_review_bow\n",
    "\n",
    "@Inputs\n",
    "__\n",
    "data : data frame\n",
    "    Amazon review data frame\n",
    "\n",
    "@Returns\n",
    "___\n",
    "vectorizer \n",
    "    :<class 'sklearn.feature_extraction.text.CountVectorizer'> \n",
    "    \n",
    "bow \n",
    "    : <class 'scipy.sparse.csr.csr_matrix'>\n",
    "\"\"\"\n",
    "\n",
    "def make_review_bow(data):    \n",
    "\n",
    "### YOUR CODE HERE ###\n",
    "\n",
    "  vectorizer = CountVectorizer(min_df=0)\n",
    "  vectorizer.fit(data)\n",
    "  x = vectorizer.transform(data)\n",
    "  bow = x.toarray()\n",
    "\n",
    "########################\n",
    "\n",
    "  return vectorizer, bow"
   ]
  },
  {
   "cell_type": "markdown",
   "metadata": {
    "id": "RVCTwOVq8sFn"
   },
   "source": [
    "\n",
    "- Make BOW using make_review_bow function.\n",
    "- Make BOW_df using BOW you made."
   ]
  },
  {
   "cell_type": "code",
   "execution_count": 156,
   "metadata": {
    "colab": {
     "base_uri": "https://localhost:8080/",
     "height": 254
    },
    "id": "5LI_3BiYOcGP",
    "outputId": "53cc4af0-c0e5-4ef8-8bdf-8f66593c85ff"
   },
   "outputs": [
    {
     "name": "stdout",
     "output_type": "stream",
     "text": [
      "(1000, 1847)\n"
     ]
    },
    {
     "data": {
      "text/html": [
       "<div>\n",
       "<style scoped>\n",
       "    .dataframe tbody tr th:only-of-type {\n",
       "        vertical-align: middle;\n",
       "    }\n",
       "\n",
       "    .dataframe tbody tr th {\n",
       "        vertical-align: top;\n",
       "    }\n",
       "\n",
       "    .dataframe thead th {\n",
       "        text-align: right;\n",
       "    }\n",
       "</style>\n",
       "<table border=\"1\" class=\"dataframe\">\n",
       "  <thead>\n",
       "    <tr style=\"text-align: right;\">\n",
       "      <th></th>\n",
       "      <th>10</th>\n",
       "      <th>100</th>\n",
       "      <th>11</th>\n",
       "      <th>12</th>\n",
       "      <th>13</th>\n",
       "      <th>15</th>\n",
       "      <th>15g</th>\n",
       "      <th>18</th>\n",
       "      <th>20</th>\n",
       "      <th>2000</th>\n",
       "      <th>...</th>\n",
       "      <th>wrongly</th>\n",
       "      <th>year</th>\n",
       "      <th>years</th>\n",
       "      <th>yell</th>\n",
       "      <th>yes</th>\n",
       "      <th>yet</th>\n",
       "      <th>you</th>\n",
       "      <th>your</th>\n",
       "      <th>z500a</th>\n",
       "      <th>zero</th>\n",
       "    </tr>\n",
       "  </thead>\n",
       "  <tbody>\n",
       "    <tr>\n",
       "      <th>0</th>\n",
       "      <td>0</td>\n",
       "      <td>0</td>\n",
       "      <td>0</td>\n",
       "      <td>0</td>\n",
       "      <td>0</td>\n",
       "      <td>0</td>\n",
       "      <td>0</td>\n",
       "      <td>0</td>\n",
       "      <td>0</td>\n",
       "      <td>0</td>\n",
       "      <td>...</td>\n",
       "      <td>0</td>\n",
       "      <td>0</td>\n",
       "      <td>0</td>\n",
       "      <td>0</td>\n",
       "      <td>0</td>\n",
       "      <td>0</td>\n",
       "      <td>0</td>\n",
       "      <td>0</td>\n",
       "      <td>0</td>\n",
       "      <td>0</td>\n",
       "    </tr>\n",
       "    <tr>\n",
       "      <th>1</th>\n",
       "      <td>0</td>\n",
       "      <td>0</td>\n",
       "      <td>0</td>\n",
       "      <td>0</td>\n",
       "      <td>0</td>\n",
       "      <td>0</td>\n",
       "      <td>0</td>\n",
       "      <td>0</td>\n",
       "      <td>0</td>\n",
       "      <td>0</td>\n",
       "      <td>...</td>\n",
       "      <td>0</td>\n",
       "      <td>0</td>\n",
       "      <td>0</td>\n",
       "      <td>0</td>\n",
       "      <td>0</td>\n",
       "      <td>0</td>\n",
       "      <td>0</td>\n",
       "      <td>0</td>\n",
       "      <td>0</td>\n",
       "      <td>0</td>\n",
       "    </tr>\n",
       "    <tr>\n",
       "      <th>2</th>\n",
       "      <td>0</td>\n",
       "      <td>0</td>\n",
       "      <td>0</td>\n",
       "      <td>0</td>\n",
       "      <td>0</td>\n",
       "      <td>0</td>\n",
       "      <td>0</td>\n",
       "      <td>0</td>\n",
       "      <td>0</td>\n",
       "      <td>0</td>\n",
       "      <td>...</td>\n",
       "      <td>0</td>\n",
       "      <td>0</td>\n",
       "      <td>0</td>\n",
       "      <td>0</td>\n",
       "      <td>0</td>\n",
       "      <td>0</td>\n",
       "      <td>0</td>\n",
       "      <td>0</td>\n",
       "      <td>0</td>\n",
       "      <td>0</td>\n",
       "    </tr>\n",
       "    <tr>\n",
       "      <th>3</th>\n",
       "      <td>0</td>\n",
       "      <td>0</td>\n",
       "      <td>0</td>\n",
       "      <td>0</td>\n",
       "      <td>0</td>\n",
       "      <td>0</td>\n",
       "      <td>0</td>\n",
       "      <td>0</td>\n",
       "      <td>0</td>\n",
       "      <td>0</td>\n",
       "      <td>...</td>\n",
       "      <td>0</td>\n",
       "      <td>0</td>\n",
       "      <td>0</td>\n",
       "      <td>0</td>\n",
       "      <td>0</td>\n",
       "      <td>0</td>\n",
       "      <td>0</td>\n",
       "      <td>0</td>\n",
       "      <td>0</td>\n",
       "      <td>0</td>\n",
       "    </tr>\n",
       "    <tr>\n",
       "      <th>4</th>\n",
       "      <td>0</td>\n",
       "      <td>0</td>\n",
       "      <td>0</td>\n",
       "      <td>0</td>\n",
       "      <td>0</td>\n",
       "      <td>0</td>\n",
       "      <td>0</td>\n",
       "      <td>0</td>\n",
       "      <td>0</td>\n",
       "      <td>0</td>\n",
       "      <td>...</td>\n",
       "      <td>0</td>\n",
       "      <td>0</td>\n",
       "      <td>0</td>\n",
       "      <td>0</td>\n",
       "      <td>0</td>\n",
       "      <td>0</td>\n",
       "      <td>0</td>\n",
       "      <td>0</td>\n",
       "      <td>0</td>\n",
       "      <td>0</td>\n",
       "    </tr>\n",
       "  </tbody>\n",
       "</table>\n",
       "<p>5 rows × 1847 columns</p>\n",
       "</div>"
      ],
      "text/plain": [
       "   10  100  11  12  13  15  15g  18  20  2000  ...  wrongly  year  years  \\\n",
       "0   0    0   0   0   0   0    0   0   0     0  ...        0     0      0   \n",
       "1   0    0   0   0   0   0    0   0   0     0  ...        0     0      0   \n",
       "2   0    0   0   0   0   0    0   0   0     0  ...        0     0      0   \n",
       "3   0    0   0   0   0   0    0   0   0     0  ...        0     0      0   \n",
       "4   0    0   0   0   0   0    0   0   0     0  ...        0     0      0   \n",
       "\n",
       "   yell  yes  yet  you  your  z500a  zero  \n",
       "0     0    0    0    0     0      0     0  \n",
       "1     0    0    0    0     0      0     0  \n",
       "2     0    0    0    0     0      0     0  \n",
       "3     0    0    0    0     0      0     0  \n",
       "4     0    0    0    0     0      0     0  \n",
       "\n",
       "[5 rows x 1847 columns]"
      ]
     },
     "execution_count": 156,
     "metadata": {},
     "output_type": "execute_result"
    }
   ],
   "source": [
    "\n",
    "### YOUR CODE HERE ###\n",
    "\n",
    "vectorizer, bow = make_review_bow(amazon_review['text'])\n",
    "bow_df = pd.DataFrame(bow, columns=vectorizer.get_feature_names_out())\n",
    "\n",
    "########################\n",
    "\n",
    "print(bow_df.shape)\n",
    "bow_df.head()"
   ]
  },
  {
   "cell_type": "markdown",
   "metadata": {
    "id": "wPlvpoZIOcGP"
   },
   "source": [
    "### Problem 2-3 Split Data : Train / Test\n",
    "- Split your data (1000 reviews) __Train: 800 / Test: 200__ randomly. \n",
    "    - X: bow_df of Review / Y: Sentiment[(int type) 1:pos, 0:neg] \n",
    "    - __Make sure your X data match to Y data in random shuffling.__\n",
    "\n",
    "*hint: refer to https://scikit-learn.org/stable/modules/generated/sklearn.model_selection.train_test_split.html#sklearn.model_selection.train_test_split.*"
   ]
  },
  {
   "cell_type": "code",
   "execution_count": 157,
   "metadata": {
    "id": "Dwadd7L680WB"
   },
   "outputs": [],
   "source": [
    "from sklearn.model_selection import train_test_split\n"
   ]
  },
  {
   "cell_type": "code",
   "execution_count": 158,
   "metadata": {
    "colab": {
     "base_uri": "https://localhost:8080/"
    },
    "id": "KWT8y2yfOcGQ",
    "outputId": "bee7a559-1032-48c2-f95c-c3d72919e5ac"
   },
   "outputs": [
    {
     "data": {
      "text/plain": [
       "((800, 1847), (200, 1847), (800,), (200,))"
      ]
     },
     "execution_count": 158,
     "metadata": {},
     "output_type": "execute_result"
    }
   ],
   "source": [
    "###YOUR CODE HERE###\n",
    "X = bow_df\n",
    "Y = amazon_review['label']\n",
    "\n",
    "x_train, x_test, y_train, y_test = train_test_split(X, Y, test_size = 0.2, random_state = 144)\n",
    "\n",
    "#######################\n",
    "\n",
    "x_train.shape, x_test.shape, y_train.shape, y_test.shape"
   ]
  },
  {
   "cell_type": "markdown",
   "metadata": {
    "id": "2_ffK-jjOcGQ"
   },
   "source": [
    "### Problem 2-4 Model by SGDClassifier\n",
    "- Use SGDClassifer to make you classficiation model.\n",
    "- Train your model using train data and report test score using test data.\n",
    "\n",
    "*hint: Refer to http://scikit-learn.org/stable/modules/generated/sklearn.linear_model.SGDClassifier.html*"
   ]
  },
  {
   "cell_type": "code",
   "execution_count": 159,
   "metadata": {
    "id": "bA1YW4s7OcGQ"
   },
   "outputs": [],
   "source": [
    "from sklearn.linear_model import SGDClassifier"
   ]
  },
  {
   "cell_type": "code",
   "execution_count": 160,
   "metadata": {
    "colab": {
     "base_uri": "https://localhost:8080/"
    },
    "id": "vGHitTxkOcGQ",
    "outputId": "404aca4c-6668-4ed4-a102-4ee11ffec85e"
   },
   "outputs": [
    {
     "data": {
      "text/plain": [
       "array([1, 0, 1, 0, 1, 1, 1, 0, 0, 0, 1, 1, 0, 1, 1, 0, 1, 0, 1, 0, 1, 1,\n",
       "       1, 1, 1, 1, 1, 0, 1, 0, 1, 0, 0, 0, 1, 1, 1, 0, 1, 1, 1, 1, 1, 1,\n",
       "       0, 0, 1, 0, 1, 0, 0, 1, 0, 0, 0, 0, 0, 0, 1, 0, 1, 0, 1, 0, 1, 1,\n",
       "       0, 1, 1, 1, 1, 0, 1, 1, 0, 1, 0, 1, 0, 0, 1, 0, 0, 1, 0, 1, 1, 1,\n",
       "       1, 1, 0, 0, 0, 1, 1, 1, 0, 1, 1, 0, 1, 0, 0, 1, 1, 1, 1, 0, 1, 0,\n",
       "       1, 0, 1, 0, 1, 0, 1, 0, 0, 1, 0, 0, 0, 1, 0, 1, 0, 0, 0, 0, 0, 0,\n",
       "       1, 0, 0, 0, 0, 1, 0, 0, 0, 1, 0, 0, 1, 0, 0, 1, 0, 0, 1, 0, 0, 0,\n",
       "       1, 0, 0, 1, 1, 0, 1, 1, 0, 0, 1, 1, 1, 1, 0, 1, 1, 0, 1, 1, 0, 1,\n",
       "       0, 0, 0, 0, 1, 1, 1, 0, 0, 0, 0, 0, 1, 0, 0, 1, 0, 1, 0, 0, 0, 1,\n",
       "       0, 1], dtype=int64)"
      ]
     },
     "execution_count": 160,
     "metadata": {},
     "output_type": "execute_result"
    }
   ],
   "source": [
    "clf = SGDClassifier(max_iter=1000)\n",
    "### YOUR CODE HERE ###\n",
    "\n",
    "clf.fit(x_train, y_train)\n",
    "test_pred = clf.predict(x_test)\n",
    "\n",
    "########################\n",
    "\n",
    "test_pred #prediction of x_test"
   ]
  },
  {
   "cell_type": "code",
   "execution_count": 161,
   "metadata": {
    "id": "OSQTmPDMOcGQ"
   },
   "outputs": [],
   "source": [
    "from sklearn.metrics import accuracy_score"
   ]
  },
  {
   "cell_type": "code",
   "execution_count": 162,
   "metadata": {
    "colab": {
     "base_uri": "https://localhost:8080/"
    },
    "id": "ZGDkfB-WOcGQ",
    "outputId": "2b6859fc-6dcd-4fa2-d63a-fe3a904c1afe"
   },
   "outputs": [
    {
     "name": "stdout",
     "output_type": "stream",
     "text": [
      "Model Accuracy: 0.795000\n"
     ]
    }
   ],
   "source": [
    "sgdScore = accuracy_score(test_pred, y_test)\n",
    "print (\"Model Accuracy: %f\" % sgdScore)"
   ]
  },
  {
   "cell_type": "markdown",
   "metadata": {
    "id": "uX_jcfh5OcGQ"
   },
   "source": [
    "### Problem 2-5 Model by Multinomial Naive Bayes\n",
    "- Use MultinomialNB to make you classficiation model.\n",
    "- Train your model using train data and report test score using test data.\n",
    "\n",
    "*hint: Refer to http://scikit-learn.org/stable/modules/generated/sklearn.naive_bayes.MultinomialNB.html *"
   ]
  },
  {
   "cell_type": "code",
   "execution_count": 163,
   "metadata": {
    "id": "t2FhfgJjOcGQ"
   },
   "outputs": [],
   "source": [
    "from sklearn.naive_bayes import MultinomialNB"
   ]
  },
  {
   "cell_type": "code",
   "execution_count": 164,
   "metadata": {
    "colab": {
     "base_uri": "https://localhost:8080/"
    },
    "id": "ByugN0xOOcGQ",
    "outputId": "fd2b5560-6b60-4186-a82a-0d97a489ea59"
   },
   "outputs": [
    {
     "data": {
      "text/plain": [
       "array([1, 0, 1, 0, 1, 1, 1, 0, 0, 0, 1, 0, 1, 0, 1, 1, 1, 0, 0, 0, 1, 1,\n",
       "       1, 1, 1, 0, 1, 0, 1, 0, 1, 1, 1, 0, 1, 1, 1, 1, 1, 0, 1, 1, 1, 1,\n",
       "       0, 1, 1, 1, 1, 0, 0, 0, 1, 0, 0, 0, 1, 0, 1, 0, 1, 0, 1, 0, 1, 1,\n",
       "       0, 1, 1, 1, 1, 0, 1, 1, 0, 1, 0, 1, 1, 1, 1, 0, 0, 1, 0, 1, 1, 1,\n",
       "       1, 1, 1, 0, 0, 0, 1, 0, 1, 1, 1, 0, 1, 0, 1, 1, 1, 1, 1, 0, 1, 1,\n",
       "       1, 0, 1, 0, 1, 0, 1, 1, 1, 1, 0, 0, 0, 1, 0, 1, 0, 0, 0, 0, 0, 0,\n",
       "       1, 0, 0, 1, 1, 1, 0, 0, 0, 1, 0, 0, 1, 0, 0, 1, 0, 1, 1, 0, 0, 1,\n",
       "       1, 0, 0, 0, 1, 0, 0, 1, 1, 0, 1, 1, 0, 1, 0, 1, 1, 1, 1, 1, 0, 1,\n",
       "       1, 0, 0, 0, 1, 1, 1, 0, 0, 0, 1, 0, 1, 0, 0, 1, 0, 1, 0, 1, 1, 1,\n",
       "       0, 1], dtype=int64)"
      ]
     },
     "execution_count": 164,
     "metadata": {},
     "output_type": "execute_result"
    }
   ],
   "source": [
    "NB=MultinomialNB()\n",
    "### YOUR CODE HERE ###\n",
    "\n",
    "NB.fit(x_train, y_train)\n",
    "test_pred = NB.predict(x_test)\n",
    "########################\n",
    "test_pred # Prediction of x_test"
   ]
  },
  {
   "cell_type": "code",
   "execution_count": 165,
   "metadata": {
    "colab": {
     "base_uri": "https://localhost:8080/"
    },
    "id": "BZxrxCh0OcGR",
    "outputId": "9126402d-3bab-446c-a356-8818315a1170"
   },
   "outputs": [
    {
     "name": "stdout",
     "output_type": "stream",
     "text": [
      "Model Accuracy: 0.845000\n"
     ]
    }
   ],
   "source": [
    "nbScore = accuracy_score(test_pred,y_test)\n",
    "print (\"Model Accuracy: %f\" % nbScore)"
   ]
  },
  {
   "cell_type": "markdown",
   "metadata": {
    "id": "8SEvmOB4OcGR"
   },
   "source": [
    "### Problem 3-6 Select the Best Model with 4 fold Cross Validation\n",
    "- Split your data (1000 reviews) __Train: 800 (Validation: 200) / Test: 200__ randomly. \n",
    "    - X: bow_df of text(review) / Y: label(sentiment)[(int type) 1:pos, 0:neg] \n",
    "    - __Make sure your X data match to Y data in random shuffling.__\n",
    "- Train your model with different parameters using train data and check your model performance by cross validataion score.\n",
    "- Choose your best model using cross validataion sets and report your test score.\n",
    "\n",
    "*hint : refer to https://scikit-learn.org/1.0/modules/generated/sklearn.model_selection.cross_validate.html?highlight=cross_validate#sklearn.model_selection.cross_validate*"
   ]
  },
  {
   "cell_type": "code",
   "execution_count": 166,
   "metadata": {
    "id": "kBJXyokPOcGR"
   },
   "outputs": [],
   "source": [
    "from sklearn.model_selection import train_test_split\n",
    "from sklearn.model_selection import cross_validate"
   ]
  },
  {
   "cell_type": "markdown",
   "metadata": {
    "id": "Bw31vDYm9Jku"
   },
   "source": [
    "### 1) Split data"
   ]
  },
  {
   "cell_type": "code",
   "execution_count": 167,
   "metadata": {
    "colab": {
     "base_uri": "https://localhost:8080/"
    },
    "id": "ttUrRkxDOcGR",
    "outputId": "bb741b85-5f1b-4457-e06e-24df8fb16b9d"
   },
   "outputs": [
    {
     "data": {
      "text/plain": [
       "((800, 1847), (200, 1847), (800,), (200,))"
      ]
     },
     "execution_count": 167,
     "metadata": {},
     "output_type": "execute_result"
    }
   ],
   "source": [
    "\n",
    "###YOUR CODE HERE###\n",
    "X = bow_df\n",
    "Y = amazon_review['label']\n",
    "\n",
    "x_train, x_test, y_train, y_test = train_test_split(X, Y, test_size = 0.2, random_state = 144)\n",
    "\n",
    "####################\n",
    "\n",
    "x_train.shape, x_test.shape, y_train.shape, y_test.shape"
   ]
  },
  {
   "cell_type": "markdown",
   "metadata": {
    "id": "YONXx7OHOcGR"
   },
   "source": [
    "### 2) Train model with different parameters using train data and check model performance by cross validataion score."
   ]
  },
  {
   "cell_type": "markdown",
   "metadata": {
    "id": "m-cHbg7Y9WWD"
   },
   "source": [
    "### Parameters \n",
    "\n",
    "### SGD classifer\n",
    "\n",
    "* penalty : ['l2', 'l1', 'elasticnet']\n",
    "\n",
    "* loss : ['epsilon_insensitive', 'modified_huber', 'squared_error', 'log_loss', 'hinge', 'squared_epsilon_insensitive', 'huber', 'squared_hinge', 'perceptron']\n",
    "\n",
    "* alpha : [0.0001 * 3**float(i) for i in np.arange(-2,4)]\n",
    "\n",
    "### MultinomialNB\n",
    "\n",
    "* alpha : [1.0 * 3**float(i) for i in np.arange(-3,4)]\n",
    "\n",
    "___"
   ]
  },
  {
   "cell_type": "markdown",
   "metadata": {
    "id": "yQA0kfd4OcGR"
   },
   "source": [
    "#### Initial Setting SGDClassifier Model Performance"
   ]
  },
  {
   "cell_type": "code",
   "execution_count": 168,
   "metadata": {
    "colab": {
     "base_uri": "https://localhost:8080/"
    },
    "id": "qQf8lljmOcGS",
    "outputId": "8469f1b8-a0bd-4234-f6e7-033352b3b895"
   },
   "outputs": [
    {
     "name": "stdout",
     "output_type": "stream",
     "text": [
      "CV score : 0.7800 | test score : 0.7700\n"
     ]
    }
   ],
   "source": [
    "SGDmodel = SGDClassifier(max_iter=1000)\n",
    "### YOUR CODE HERE ###\n",
    "\n",
    "SGDmodel.fit(x_train, y_train)\n",
    "cv_results = cross_validate(SGDmodel, x_train, y_train, cv=4)\n",
    "test_pred = SGDmodel.predict(x_test)\n",
    "\n",
    "######################\n",
    "\n",
    "test_score = accuracy_score(test_pred, y_test)\n",
    "print(\"CV score : %.4f | test score : %.4f\"%(cv_results['test_score'].mean(), test_score))"
   ]
  },
  {
   "cell_type": "markdown",
   "metadata": {
    "id": "a2ppCLBkOcGS"
   },
   "source": [
    "#### Train model with different parameters using train data"
   ]
  },
  {
   "cell_type": "code",
   "execution_count": 169,
   "metadata": {
    "colab": {
     "base_uri": "https://localhost:8080/"
    },
    "id": "ECH9Ujm8OcGS",
    "outputId": "c62b3174-a25d-4fa7-b055-bcdd32e3cd7a"
   },
   "outputs": [
    {
     "name": "stdout",
     "output_type": "stream",
     "text": [
      "case:           l2 | CV score:   0.7988\n",
      "case:           l1 | CV score:   0.7888\n",
      "case:   elasticnet | CV score:   0.7863\n"
     ]
    }
   ],
   "source": [
    "# penalty\n",
    "from sklearn.model_selection import GridSearchCV\n",
    "### YOUR CODE HERE ###\n",
    "parameters = {'penalty':('l2', 'l1', 'elasticnet')}\n",
    "\n",
    "SGDmodel = SGDClassifier(max_iter=1000)\n",
    "clf = GridSearchCV(estimator = SGDmodel, param_grid = parameters, cv = 4)\n",
    "clf.fit(x_train, y_train)\n",
    "\n",
    "for i in range(3):\n",
    "    print('case:   %10s | CV score:   %.4f'%(list(clf.cv_results_['params'][i].values())[0], clf.cv_results_['mean_test_score'][i]))\n",
    "#######################"
   ]
  },
  {
   "cell_type": "code",
   "execution_count": 170,
   "metadata": {
    "colab": {
     "base_uri": "https://localhost:8080/"
    },
    "id": "llNBTWffOcGS",
    "outputId": "1cd5fd72-2cc0-4736-d12a-96ffc3ec0c7e"
   },
   "outputs": [
    {
     "name": "stdout",
     "output_type": "stream",
     "text": [
      "case:              epsilon_insensitive | CV score:   0.6812\n",
      "case:                   modified_huber | CV score:   0.7925\n",
      "case:                    squared_error | CV score:   0.4850\n",
      "case:                         log_loss | CV score:   0.7900\n",
      "case:                            hinge | CV score:   0.7900\n",
      "case:      squared_epsilon_insensitive | CV score:   0.5038\n",
      "case:                            huber | CV score:   0.7837\n",
      "case:                    squared_hinge | CV score:   0.7900\n",
      "case:                       perceptron | CV score:   0.7825\n"
     ]
    }
   ],
   "source": [
    "# loss\n",
    "\n",
    "### YOUR CODE HERE ###\n",
    "parameters = {'loss':('epsilon_insensitive', 'modified_huber', 'squared_error', 'log_loss', 'hinge', 'squared_epsilon_insensitive', 'huber', 'squared_hinge', 'perceptron')}\n",
    "SGDmodel = SGDClassifier(max_iter=1000)\n",
    "clf = GridSearchCV(estimator = SGDmodel, param_grid = parameters, cv = 4)\n",
    "clf.fit(x_train, y_train)\n",
    "\n",
    "for i in range(9):\n",
    "    print('case:   %30s | CV score:   %.4f'%(list(clf.cv_results_['params'][i].values())[0], clf.cv_results_['mean_test_score'][i]))\n",
    "#######################"
   ]
  },
  {
   "cell_type": "code",
   "execution_count": 171,
   "metadata": {
    "colab": {
     "base_uri": "https://localhost:8080/"
    },
    "id": "mGkHDAfoOcGS",
    "outputId": "865eaafd-7b78-4e4c-ef30-51c323a04172"
   },
   "outputs": [
    {
     "name": "stdout",
     "output_type": "stream",
     "text": [
      "case:           1.1111111111111112e-05 | CV score:   0.7875\n",
      "case:           3.3333333333333335e-05 | CV score:   0.7888\n",
      "case:                           0.0001 | CV score:   0.7950\n",
      "case:           0.00030000000000000003 | CV score:   0.8175\n",
      "case:            0.0009000000000000001 | CV score:   0.8275\n",
      "case:                           0.0027 | CV score:   0.8225\n"
     ]
    }
   ],
   "source": [
    "# alpha\n",
    "\n",
    "### YOUR CODE HERE ###\n",
    "parameters = {'alpha':(list(0.0001 * 3**float(i) for i in np.arange(-2,4)))}\n",
    "\n",
    "SGDmodel = SGDClassifier(max_iter=1000)\n",
    "clf = GridSearchCV(estimator = SGDmodel, param_grid = parameters, cv = 4)\n",
    "clf.fit(x_train, y_train)\n",
    "\n",
    "for i in range(6):\n",
    "    print('case:   %30s | CV score:   %.4f'%(list(clf.cv_results_['params'][i].values())[0], clf.cv_results_['mean_test_score'][i]))\n",
    "#######################\n"
   ]
  },
  {
   "cell_type": "markdown",
   "metadata": {
    "id": "0NcSgwswOcGS"
   },
   "source": [
    "#### Best Setting SGDClassifier Model Performance"
   ]
  },
  {
   "cell_type": "code",
   "execution_count": null,
   "metadata": {
    "colab": {
     "base_uri": "https://localhost:8080/"
    },
    "id": "JMKfRnvlOcGS",
    "outputId": "c40d5336-304c-4da3-998c-793c6317b838"
   },
   "outputs": [],
   "source": [
    "### YOUR CODE HERE ###\n",
    "SGDmodel = SGDClassifier(max_iter=1000)\n",
    "parameters = {\n",
    "    'penalty':('l2', 'l1', 'elasticnet'),\n",
    "    'loss':('epsilon_insensitive', 'modified_huber', 'squared_error', 'log_loss', 'hinge', 'squared_epsilon_insensitive', 'huber', 'squared_hinge', 'perceptron'),\n",
    "    'alpha':(list(0.0001 * 3**float(i) for i in np.arange(-2,4)))\n",
    "}\n",
    "clf = GridSearchCV(estimator = SGDmodel, param_grid = parameters, cv = 4)\n",
    "clf.fit(x_train, y_train)\n",
    "\n",
    "best_model = clf.best_estimator_\n",
    "best_model.fit(x_train, y_train)\n",
    "cv_results = cross_validate(best_model, x_train, y_train, cv=4)\n",
    "test_pred = best_model.predict(x_test)\n",
    "test_score = accuracy_score(test_pred, y_test)\n",
    "SGDmodel = clf\n",
    "#######################\n",
    "print(\"CV score : %.4f | test score : %.4f\"%(cv_results['test_score'].mean(), test_score))"
   ]
  },
  {
   "cell_type": "code",
   "execution_count": null,
   "metadata": {},
   "outputs": [],
   "source": [
    "SGDmodel.best_params_"
   ]
  },
  {
   "cell_type": "markdown",
   "metadata": {
    "id": "VZzmLNTuOcGS"
   },
   "source": [
    "#### Initial Setting MultinomialNB Model Performance"
   ]
  },
  {
   "cell_type": "code",
   "execution_count": 172,
   "metadata": {
    "colab": {
     "base_uri": "https://localhost:8080/"
    },
    "id": "eexl0RNoOcGT",
    "outputId": "54ccdf3d-2341-4fe4-dcb7-093bead1fb5d"
   },
   "outputs": [
    {
     "name": "stdout",
     "output_type": "stream",
     "text": [
      "CV score : 0.7975 | test score : 0.8450\n"
     ]
    }
   ],
   "source": [
    "### YOUR CODE HERE ###\n",
    "NB=MultinomialNB()\n",
    "\n",
    "NB.fit(x_train, y_train)\n",
    "cv_results = cross_validate(NB, x_train, y_train, cv=4)\n",
    "test_pred = NB.predict(x_test)\n",
    "test_score = accuracy_score(test_pred, y_test)\n",
    "\n",
    "#######################\n",
    "print(\"CV score : %.4f | test score : %.4f\"%(cv_results['test_score'].mean(), test_score))"
   ]
  },
  {
   "cell_type": "markdown",
   "metadata": {
    "id": "zxtX838gOcGT"
   },
   "source": [
    "#### Train model with different parameters using train data"
   ]
  },
  {
   "cell_type": "code",
   "execution_count": 173,
   "metadata": {
    "colab": {
     "base_uri": "https://localhost:8080/"
    },
    "id": "m55nl_JQOcGT",
    "outputId": "ffa85f13-8583-41ef-cd01-9b2cf589af83"
   },
   "outputs": [
    {
     "name": "stdout",
     "output_type": "stream",
     "text": [
      "case:             0.037037037037037035 | CV score:   0.7913\n",
      "case:               0.1111111111111111 | CV score:   0.7900\n",
      "case:               0.3333333333333333 | CV score:   0.7937\n",
      "case:                              1.0 | CV score:   0.7975\n",
      "case:                              3.0 | CV score:   0.7838\n",
      "case:                              9.0 | CV score:   0.7800\n"
     ]
    }
   ],
   "source": [
    "# alpha\n",
    "\n",
    "### YOUR CODE HERE ###\n",
    "parameters = {'alpha':(list(1.0 * 3**float(i) for i in np.arange(-3,4)))}\n",
    "\n",
    "NB=MultinomialNB()\n",
    "clf = GridSearchCV(estimator = NB, param_grid = parameters, cv = 4)\n",
    "clf.fit(x_train, y_train)\n",
    "\n",
    "for i in range(6):\n",
    "    print('case:   %30s | CV score:   %.4f'%(list(clf.cv_results_['params'][i].values())[0], clf.cv_results_['mean_test_score'][i]))\n",
    "\n",
    "#######################"
   ]
  },
  {
   "cell_type": "markdown",
   "metadata": {
    "id": "NM1HV07JOcGT"
   },
   "source": [
    "#### Best Setting MultinomialNB Model Performance"
   ]
  },
  {
   "cell_type": "code",
   "execution_count": 174,
   "metadata": {
    "colab": {
     "base_uri": "https://localhost:8080/"
    },
    "id": "ME7Nj9FUOcGT",
    "outputId": "7124bc45-aff7-4291-9f45-a90101d23051"
   },
   "outputs": [
    {
     "name": "stdout",
     "output_type": "stream",
     "text": [
      "CV score : 0.7975 | test score : 0.8450\n"
     ]
    }
   ],
   "source": [
    "### YOUR CODE HERE ###\n",
    "NB=clf.best_estimator_\n",
    "\n",
    "NB.fit(x_train, y_train)\n",
    "cv_results = cross_validate(NB, x_train, y_train, cv=4)\n",
    "test_pred = NB.predict(x_test)\n",
    "test_score = accuracy_score(test_pred, y_test)\n",
    "\n",
    "#######################\n",
    "print(\"CV score : %.4f | test score : %.4f\"%(cv_results['test_score'].mean(), test_score))"
   ]
  },
  {
   "cell_type": "markdown",
   "metadata": {
    "id": "N2PyMIb2OcGT"
   },
   "source": [
    "### 3)choose your best model using cross validataion sets and report your test score."
   ]
  },
  {
   "cell_type": "code",
   "execution_count": 209,
   "metadata": {
    "colab": {
     "base_uri": "https://localhost:8080/"
    },
    "id": "8cixtLtSOcGT",
    "outputId": "12443f49-9dd5-4a04-e9ff-4b0546de6130"
   },
   "outputs": [
    {
     "name": "stdout",
     "output_type": "stream",
     "text": [
      "CV score : 0.7975\n",
      "Model Accuracy: 0.8450\n"
     ]
    }
   ],
   "source": [
    "### YOUR ANSWER HERE ###\n",
    "# 더 나은 결과를 가진 모델 -> NB\n",
    "NB=clf.best_estimator_\n",
    "NB.fit(x_train, y_train)\n",
    "cv_results = cross_validate(NB, x_train, y_train, cv=4)\n",
    "test_pred = NB.predict(x_test)\n",
    "test_score = accuracy_score(test_pred, y_test)\n",
    "\n",
    "########################\n",
    "\n",
    "print(\"CV score : %.4f\"%cv_results['test_score'].mean())\n",
    "print(\"Model Accuracy: %.4f\"%test_score)"
   ]
  },
  {
   "cell_type": "markdown",
   "metadata": {
    "id": "cdcDGPD4OcGT"
   },
   "source": [
    "## Problem3. Clustering Model\n",
    "- In this problem, you will cluster news article documents after converting them to TF-IDF vectors.\n",
    "- All results may be different from the example results depending on your choice."
   ]
  },
  {
   "cell_type": "code",
   "execution_count": 32,
   "metadata": {
    "id": "YMtXCWg-OcGT"
   },
   "outputs": [],
   "source": [
    "import pandas as pd\n",
    "import numpy as np\n",
    "from sklearn.datasets import fetch_20newsgroups\n",
    "from sklearn.metrics.pairwise import cosine_similarity\n",
    "import matplotlib.pyplot as plt\n",
    "from sklearn.manifold import MDS"
   ]
  },
  {
   "cell_type": "markdown",
   "metadata": {
    "id": "iIwTtlT7OcGT"
   },
   "source": [
    "### Problem 3-1 Pick 3 Categories you want and download"
   ]
  },
  {
   "cell_type": "code",
   "execution_count": 33,
   "metadata": {
    "id": "N-PyI3CkOcGU"
   },
   "outputs": [],
   "source": [
    "\"\"\"\n",
    "\n",
    "['alt.atheism',\n",
    " 'comp.graphics',\n",
    " 'comp.os.ms-windows.misc',\n",
    " 'comp.sys.ibm.pc.hardware',\n",
    " 'comp.sys.mac.hardware',\n",
    " 'comp.windows.x',\n",
    " 'misc.forsale',\n",
    " 'rec.autos',\n",
    " 'rec.motorcycles',\n",
    " 'rec.sport.baseball',\n",
    " 'rec.sport.hockey',\n",
    " 'sci.crypt',\n",
    " 'sci.electronics',\n",
    " 'sci.med',\n",
    " 'sci.space',\n",
    " 'soc.religion.christian',\n",
    " 'talk.politics.guns',\n",
    " 'talk.politics.mideast',\n",
    " 'talk.politics.misc',\n",
    " 'talk.religion.misc']\n",
    " \n",
    "\"\"\"\n",
    "categories = ['comp.sys.mac.hardware','rec.sport.baseball', 'sci.med'] ## YOUR CODE HERE\n"
   ]
  },
  {
   "cell_type": "code",
   "execution_count": 34,
   "metadata": {
    "colab": {
     "base_uri": "https://localhost:8080/"
    },
    "id": "S4aeumbkOcGU",
    "outputId": "77f59c61-84dd-4c69-ece1-4a533cd983cf"
   },
   "outputs": [
    {
     "name": "stdout",
     "output_type": "stream",
     "text": [
      ".. _20newsgroups_dataset:\n",
      "\n",
      "The 20 newsgroups text dataset\n",
      "------------------------------\n",
      "\n",
      "The 20 newsgroups dataset comprises around 18000 newsgroups posts on\n",
      "20 topics split in two subsets: one for training (or development)\n",
      "and the other one for testing (or for performance evaluation). The split\n",
      "between the train and test set is based upon a messages posted before\n",
      "and after a specific date.\n",
      "\n",
      "This module contains two loaders. The first one,\n",
      ":func:`sklearn.datasets.fetch_20newsgroups`,\n",
      "returns a list of the raw texts that can be fed to text feature\n",
      "extractors such as :class:`~sklearn.feature_extraction.text.CountVectorizer`\n",
      "with custom parameters so as to extract feature vectors.\n",
      "The second one, :func:`sklearn.datasets.fetch_20newsgroups_vectorized`,\n",
      "returns ready-to-use features, i.e., it is not necessary to use a feature\n",
      "extractor.\n",
      "\n",
      "**Data Set Characteristics:**\n",
      "\n",
      "    =================   ==========\n",
      "    Classes                     20\n",
      "    Samples total            18846\n",
      "    Dimensionality               1\n",
      "    Features                  text\n",
      "    =================   ==========\n",
      "\n",
      "Usage\n",
      "~~~~~\n",
      "\n",
      "The :func:`sklearn.datasets.fetch_20newsgroups` function is a data\n",
      "fetching / caching functions that downloads the data archive from\n",
      "the original `20 newsgroups website`_, extracts the archive contents\n",
      "in the ``~/scikit_learn_data/20news_home`` folder and calls the\n",
      ":func:`sklearn.datasets.load_files` on either the training or\n",
      "testing set folder, or both of them::\n",
      "\n",
      "  >>> from sklearn.datasets import fetch_20newsgroups\n",
      "  >>> newsgroups_train = fetch_20newsgroups(subset='train')\n",
      "\n",
      "  >>> from pprint import pprint\n",
      "  >>> pprint(list(newsgroups_train.target_names))\n",
      "  ['alt.atheism',\n",
      "   'comp.graphics',\n",
      "   'comp.os.ms-windows.misc',\n",
      "   'comp.sys.ibm.pc.hardware',\n",
      "   'comp.sys.mac.hardware',\n",
      "   'comp.windows.x',\n",
      "   'misc.forsale',\n",
      "   'rec.autos',\n",
      "   'rec.motorcycles',\n",
      "   'rec.sport.baseball',\n",
      "   'rec.sport.hockey',\n",
      "   'sci.crypt',\n",
      "   'sci.electronics',\n",
      "   'sci.med',\n",
      "   'sci.space',\n",
      "   'soc.religion.christian',\n",
      "   'talk.politics.guns',\n",
      "   'talk.politics.mideast',\n",
      "   'talk.politics.misc',\n",
      "   'talk.religion.misc']\n",
      "\n",
      "The real data lies in the ``filenames`` and ``target`` attributes. The target\n",
      "attribute is the integer index of the category::\n",
      "\n",
      "  >>> newsgroups_train.filenames.shape\n",
      "  (11314,)\n",
      "  >>> newsgroups_train.target.shape\n",
      "  (11314,)\n",
      "  >>> newsgroups_train.target[:10]\n",
      "  array([ 7,  4,  4,  1, 14, 16, 13,  3,  2,  4])\n",
      "\n",
      "It is possible to load only a sub-selection of the categories by passing the\n",
      "list of the categories to load to the\n",
      ":func:`sklearn.datasets.fetch_20newsgroups` function::\n",
      "\n",
      "  >>> cats = ['alt.atheism', 'sci.space']\n",
      "  >>> newsgroups_train = fetch_20newsgroups(subset='train', categories=cats)\n",
      "\n",
      "  >>> list(newsgroups_train.target_names)\n",
      "  ['alt.atheism', 'sci.space']\n",
      "  >>> newsgroups_train.filenames.shape\n",
      "  (1073,)\n",
      "  >>> newsgroups_train.target.shape\n",
      "  (1073,)\n",
      "  >>> newsgroups_train.target[:10]\n",
      "  array([0, 1, 1, 1, 0, 1, 1, 0, 0, 0])\n",
      "\n",
      "Converting text to vectors\n",
      "~~~~~~~~~~~~~~~~~~~~~~~~~~\n",
      "\n",
      "In order to feed predictive or clustering models with the text data,\n",
      "one first need to turn the text into vectors of numerical values suitable\n",
      "for statistical analysis. This can be achieved with the utilities of the\n",
      "``sklearn.feature_extraction.text`` as demonstrated in the following\n",
      "example that extract `TF-IDF`_ vectors of unigram tokens\n",
      "from a subset of 20news::\n",
      "\n",
      "  >>> from sklearn.feature_extraction.text import TfidfVectorizer\n",
      "  >>> categories = ['alt.atheism', 'talk.religion.misc',\n",
      "  ...               'comp.graphics', 'sci.space']\n",
      "  >>> newsgroups_train = fetch_20newsgroups(subset='train',\n",
      "  ...                                       categories=categories)\n",
      "  >>> vectorizer = TfidfVectorizer()\n",
      "  >>> vectors = vectorizer.fit_transform(newsgroups_train.data)\n",
      "  >>> vectors.shape\n",
      "  (2034, 34118)\n",
      "\n",
      "The extracted TF-IDF vectors are very sparse, with an average of 159 non-zero\n",
      "components by sample in a more than 30000-dimensional space\n",
      "(less than .5% non-zero features)::\n",
      "\n",
      "  >>> vectors.nnz / float(vectors.shape[0])\n",
      "  159.01327...\n",
      "\n",
      ":func:`sklearn.datasets.fetch_20newsgroups_vectorized` is a function which\n",
      "returns ready-to-use token counts features instead of file names.\n",
      "\n",
      ".. _`20 newsgroups website`: http://people.csail.mit.edu/jrennie/20Newsgroups/\n",
      ".. _`TF-IDF`: https://en.wikipedia.org/wiki/Tf-idf\n",
      "\n",
      "\n",
      "Filtering text for more realistic training\n",
      "~~~~~~~~~~~~~~~~~~~~~~~~~~~~~~~~~~~~~~~~~~\n",
      "\n",
      "It is easy for a classifier to overfit on particular things that appear in the\n",
      "20 Newsgroups data, such as newsgroup headers. Many classifiers achieve very\n",
      "high F-scores, but their results would not generalize to other documents that\n",
      "aren't from this window of time.\n",
      "\n",
      "For example, let's look at the results of a multinomial Naive Bayes classifier,\n",
      "which is fast to train and achieves a decent F-score::\n",
      "\n",
      "  >>> from sklearn.naive_bayes import MultinomialNB\n",
      "  >>> from sklearn import metrics\n",
      "  >>> newsgroups_test = fetch_20newsgroups(subset='test',\n",
      "  ...                                      categories=categories)\n",
      "  >>> vectors_test = vectorizer.transform(newsgroups_test.data)\n",
      "  >>> clf = MultinomialNB(alpha=.01)\n",
      "  >>> clf.fit(vectors, newsgroups_train.target)\n",
      "  MultinomialNB(alpha=0.01, class_prior=None, fit_prior=True)\n",
      "\n",
      "  >>> pred = clf.predict(vectors_test)\n",
      "  >>> metrics.f1_score(newsgroups_test.target, pred, average='macro')\n",
      "  0.88213...\n",
      "\n",
      "(The example :ref:`sphx_glr_auto_examples_text_plot_document_classification_20newsgroups.py` shuffles\n",
      "the training and test data, instead of segmenting by time, and in that case\n",
      "multinomial Naive Bayes gets a much higher F-score of 0.88. Are you suspicious\n",
      "yet of what's going on inside this classifier?)\n",
      "\n",
      "Let's take a look at what the most informative features are:\n",
      "\n",
      "  >>> import numpy as np\n",
      "  >>> def show_top10(classifier, vectorizer, categories):\n",
      "  ...     feature_names = vectorizer.get_feature_names_out()\n",
      "  ...     for i, category in enumerate(categories):\n",
      "  ...         top10 = np.argsort(classifier.coef_[i])[-10:]\n",
      "  ...         print(\"%s: %s\" % (category, \" \".join(feature_names[top10])))\n",
      "  ...\n",
      "  >>> show_top10(clf, vectorizer, newsgroups_train.target_names)\n",
      "  alt.atheism: edu it and in you that is of to the\n",
      "  comp.graphics: edu in graphics it is for and of to the\n",
      "  sci.space: edu it that is in and space to of the\n",
      "  talk.religion.misc: not it you in is that and to of the\n",
      "\n",
      "\n",
      "You can now see many things that these features have overfit to:\n",
      "\n",
      "- Almost every group is distinguished by whether headers such as\n",
      "  ``NNTP-Posting-Host:`` and ``Distribution:`` appear more or less often.\n",
      "- Another significant feature involves whether the sender is affiliated with\n",
      "  a university, as indicated either by their headers or their signature.\n",
      "- The word \"article\" is a significant feature, based on how often people quote\n",
      "  previous posts like this: \"In article [article ID], [name] <[e-mail address]>\n",
      "  wrote:\"\n",
      "- Other features match the names and e-mail addresses of particular people who\n",
      "  were posting at the time.\n",
      "\n",
      "With such an abundance of clues that distinguish newsgroups, the classifiers\n",
      "barely have to identify topics from text at all, and they all perform at the\n",
      "same high level.\n",
      "\n",
      "For this reason, the functions that load 20 Newsgroups data provide a\n",
      "parameter called **remove**, telling it what kinds of information to strip out\n",
      "of each file. **remove** should be a tuple containing any subset of\n",
      "``('headers', 'footers', 'quotes')``, telling it to remove headers, signature\n",
      "blocks, and quotation blocks respectively.\n",
      "\n",
      "  >>> newsgroups_test = fetch_20newsgroups(subset='test',\n",
      "  ...                                      remove=('headers', 'footers', 'quotes'),\n",
      "  ...                                      categories=categories)\n",
      "  >>> vectors_test = vectorizer.transform(newsgroups_test.data)\n",
      "  >>> pred = clf.predict(vectors_test)\n",
      "  >>> metrics.f1_score(pred, newsgroups_test.target, average='macro')\n",
      "  0.77310...\n",
      "\n",
      "This classifier lost over a lot of its F-score, just because we removed\n",
      "metadata that has little to do with topic classification.\n",
      "It loses even more if we also strip this metadata from the training data:\n",
      "\n",
      "  >>> newsgroups_train = fetch_20newsgroups(subset='train',\n",
      "  ...                                       remove=('headers', 'footers', 'quotes'),\n",
      "  ...                                       categories=categories)\n",
      "  >>> vectors = vectorizer.fit_transform(newsgroups_train.data)\n",
      "  >>> clf = MultinomialNB(alpha=.01)\n",
      "  >>> clf.fit(vectors, newsgroups_train.target)\n",
      "  MultinomialNB(alpha=0.01, class_prior=None, fit_prior=True)\n",
      "\n",
      "  >>> vectors_test = vectorizer.transform(newsgroups_test.data)\n",
      "  >>> pred = clf.predict(vectors_test)\n",
      "  >>> metrics.f1_score(newsgroups_test.target, pred, average='macro')\n",
      "  0.76995...\n",
      "\n",
      "Some other classifiers cope better with this harder version of the task. Try the\n",
      ":ref:`sphx_glr_auto_examples_model_selection_plot_grid_search_text_feature_extraction.py`\n",
      "example with and without the `remove` option to compare the results.\n",
      "\n",
      ".. topic:: Data Considerations\n",
      "\n",
      "  The Cleveland Indians is a major league baseball team based in Cleveland,\n",
      "  Ohio, USA. In December 2020, it was reported that \"After several months of\n",
      "  discussion sparked by the death of George Floyd and a national reckoning over\n",
      "  race and colonialism, the Cleveland Indians have decided to change their\n",
      "  name.\" Team owner Paul Dolan \"did make it clear that the team will not make\n",
      "  its informal nickname -- the Tribe -- its new team name.\" \"It's not going to\n",
      "  be a half-step away from the Indians,\" Dolan said.\"We will not have a Native\n",
      "  American-themed name.\"\n",
      "\n",
      "  https://www.mlb.com/news/cleveland-indians-team-name-change\n",
      "\n",
      ".. topic:: Recommendation\n",
      "\n",
      "  - When evaluating text classifiers on the 20 Newsgroups data, you\n",
      "    should strip newsgroup-related metadata. In scikit-learn, you can do this\n",
      "    by setting ``remove=('headers', 'footers', 'quotes')``. The F-score will be\n",
      "    lower because it is more realistic.\n",
      "  - This text dataset contains data which may be inappropriate for certain NLP\n",
      "    applications. An example is listed in the \"Data Considerations\" section\n",
      "    above. The challenge with using current text datasets in NLP for tasks such\n",
      "    as sentence completion, clustering, and other applications is that text\n",
      "    that is culturally biased and inflammatory will propagate biases. This\n",
      "    should be taken into consideration when using the dataset, reviewing the\n",
      "    output, and the bias should be documented.\n",
      "\n",
      ".. topic:: Examples\n",
      "\n",
      "   * :ref:`sphx_glr_auto_examples_model_selection_plot_grid_search_text_feature_extraction.py`\n",
      "\n",
      "   * :ref:`sphx_glr_auto_examples_text_plot_document_classification_20newsgroups.py`\n",
      "\n",
      "   * :ref:`sphx_glr_auto_examples_text_plot_hashing_vs_dict_vectorizer.py`\n",
      "\n",
      "   * :ref:`sphx_glr_auto_examples_text_plot_document_clustering.py`\n",
      "\n",
      "1178 documents\n",
      "3 categories\n"
     ]
    }
   ],
   "source": [
    "dataset = fetch_20newsgroups(subset='test', categories=categories,\n",
    "                             shuffle=True, random_state=45)\n",
    "print(\"%s\" % dataset.DESCR)\n",
    "print(\"%d documents\" % len(dataset.data))\n",
    "print(\"%d categories\" % len(dataset.target_names))"
   ]
  },
  {
   "cell_type": "markdown",
   "metadata": {
    "id": "nRITjf6ZOcGU"
   },
   "source": [
    "### Problem 3-2 Convert the documents to a tf-idf matrix \n",
    "- refer to http://mlwiki.org/index.php/TF-IDF\n",
    "- You can use sklearn.\n",
    "- Set your own hyperparams."
   ]
  },
  {
   "cell_type": "code",
   "execution_count": 39,
   "metadata": {
    "colab": {
     "base_uri": "https://localhost:8080/",
     "height": 300
    },
    "id": "et-kHdUFOcGU",
    "outputId": "4eb4f50f-373e-48f7-ed27-b149403069db"
   },
   "outputs": [
    {
     "data": {
      "text/html": [
       "<div>\n",
       "<style scoped>\n",
       "    .dataframe tbody tr th:only-of-type {\n",
       "        vertical-align: middle;\n",
       "    }\n",
       "\n",
       "    .dataframe tbody tr th {\n",
       "        vertical-align: top;\n",
       "    }\n",
       "\n",
       "    .dataframe thead th {\n",
       "        text-align: right;\n",
       "    }\n",
       "</style>\n",
       "<table border=\"1\" class=\"dataframe\">\n",
       "  <thead>\n",
       "    <tr style=\"text-align: right;\">\n",
       "      <th></th>\n",
       "      <th>00</th>\n",
       "      <th>000</th>\n",
       "      <th>000003</th>\n",
       "      <th>00000f</th>\n",
       "      <th>0000ahc</th>\n",
       "      <th>0001</th>\n",
       "      <th>000821</th>\n",
       "      <th>000iu</th>\n",
       "      <th>000mg</th>\n",
       "      <th>000ug</th>\n",
       "      <th>...</th>\n",
       "      <th>zot</th>\n",
       "      <th>zr8lv</th>\n",
       "      <th>zterm</th>\n",
       "      <th>zulu</th>\n",
       "      <th>zupcic</th>\n",
       "      <th>zygon</th>\n",
       "      <th>zyxel</th>\n",
       "      <th>zz</th>\n",
       "      <th>zzzzzz</th>\n",
       "      <th>ÿhooked</th>\n",
       "    </tr>\n",
       "  </thead>\n",
       "  <tbody>\n",
       "    <tr>\n",
       "      <th>0</th>\n",
       "      <td>0.0</td>\n",
       "      <td>0.0</td>\n",
       "      <td>0.0</td>\n",
       "      <td>0.0</td>\n",
       "      <td>0.0</td>\n",
       "      <td>0.0</td>\n",
       "      <td>0.0</td>\n",
       "      <td>0.0</td>\n",
       "      <td>0.0</td>\n",
       "      <td>0.0</td>\n",
       "      <td>...</td>\n",
       "      <td>0.0</td>\n",
       "      <td>0.0</td>\n",
       "      <td>0.0</td>\n",
       "      <td>0.0</td>\n",
       "      <td>0.0</td>\n",
       "      <td>0.0</td>\n",
       "      <td>0.0</td>\n",
       "      <td>0.0</td>\n",
       "      <td>0.0</td>\n",
       "      <td>0.0</td>\n",
       "    </tr>\n",
       "    <tr>\n",
       "      <th>1</th>\n",
       "      <td>0.0</td>\n",
       "      <td>0.0</td>\n",
       "      <td>0.0</td>\n",
       "      <td>0.0</td>\n",
       "      <td>0.0</td>\n",
       "      <td>0.0</td>\n",
       "      <td>0.0</td>\n",
       "      <td>0.0</td>\n",
       "      <td>0.0</td>\n",
       "      <td>0.0</td>\n",
       "      <td>...</td>\n",
       "      <td>0.0</td>\n",
       "      <td>0.0</td>\n",
       "      <td>0.0</td>\n",
       "      <td>0.0</td>\n",
       "      <td>0.0</td>\n",
       "      <td>0.0</td>\n",
       "      <td>0.0</td>\n",
       "      <td>0.0</td>\n",
       "      <td>0.0</td>\n",
       "      <td>0.0</td>\n",
       "    </tr>\n",
       "    <tr>\n",
       "      <th>2</th>\n",
       "      <td>0.0</td>\n",
       "      <td>0.0</td>\n",
       "      <td>0.0</td>\n",
       "      <td>0.0</td>\n",
       "      <td>0.0</td>\n",
       "      <td>0.0</td>\n",
       "      <td>0.0</td>\n",
       "      <td>0.0</td>\n",
       "      <td>0.0</td>\n",
       "      <td>0.0</td>\n",
       "      <td>...</td>\n",
       "      <td>0.0</td>\n",
       "      <td>0.0</td>\n",
       "      <td>0.0</td>\n",
       "      <td>0.0</td>\n",
       "      <td>0.0</td>\n",
       "      <td>0.0</td>\n",
       "      <td>0.0</td>\n",
       "      <td>0.0</td>\n",
       "      <td>0.0</td>\n",
       "      <td>0.0</td>\n",
       "    </tr>\n",
       "    <tr>\n",
       "      <th>3</th>\n",
       "      <td>0.0</td>\n",
       "      <td>0.0</td>\n",
       "      <td>0.0</td>\n",
       "      <td>0.0</td>\n",
       "      <td>0.0</td>\n",
       "      <td>0.0</td>\n",
       "      <td>0.0</td>\n",
       "      <td>0.0</td>\n",
       "      <td>0.0</td>\n",
       "      <td>0.0</td>\n",
       "      <td>...</td>\n",
       "      <td>0.0</td>\n",
       "      <td>0.0</td>\n",
       "      <td>0.0</td>\n",
       "      <td>0.0</td>\n",
       "      <td>0.0</td>\n",
       "      <td>0.0</td>\n",
       "      <td>0.0</td>\n",
       "      <td>0.0</td>\n",
       "      <td>0.0</td>\n",
       "      <td>0.0</td>\n",
       "    </tr>\n",
       "    <tr>\n",
       "      <th>4</th>\n",
       "      <td>0.0</td>\n",
       "      <td>0.0</td>\n",
       "      <td>0.0</td>\n",
       "      <td>0.0</td>\n",
       "      <td>0.0</td>\n",
       "      <td>0.0</td>\n",
       "      <td>0.0</td>\n",
       "      <td>0.0</td>\n",
       "      <td>0.0</td>\n",
       "      <td>0.0</td>\n",
       "      <td>...</td>\n",
       "      <td>0.0</td>\n",
       "      <td>0.0</td>\n",
       "      <td>0.0</td>\n",
       "      <td>0.0</td>\n",
       "      <td>0.0</td>\n",
       "      <td>0.0</td>\n",
       "      <td>0.0</td>\n",
       "      <td>0.0</td>\n",
       "      <td>0.0</td>\n",
       "      <td>0.0</td>\n",
       "    </tr>\n",
       "  </tbody>\n",
       "</table>\n",
       "<p>5 rows × 21593 columns</p>\n",
       "</div>"
      ],
      "text/plain": [
       "    00  000  000003  00000f  0000ahc  0001  000821  000iu  000mg  000ug  ...  \\\n",
       "0  0.0  0.0     0.0     0.0      0.0   0.0     0.0    0.0    0.0    0.0  ...   \n",
       "1  0.0  0.0     0.0     0.0      0.0   0.0     0.0    0.0    0.0    0.0  ...   \n",
       "2  0.0  0.0     0.0     0.0      0.0   0.0     0.0    0.0    0.0    0.0  ...   \n",
       "3  0.0  0.0     0.0     0.0      0.0   0.0     0.0    0.0    0.0    0.0  ...   \n",
       "4  0.0  0.0     0.0     0.0      0.0   0.0     0.0    0.0    0.0    0.0  ...   \n",
       "\n",
       "   zot  zr8lv  zterm  zulu  zupcic  zygon  zyxel   zz  zzzzzz  ÿhooked  \n",
       "0  0.0    0.0    0.0   0.0     0.0    0.0    0.0  0.0     0.0      0.0  \n",
       "1  0.0    0.0    0.0   0.0     0.0    0.0    0.0  0.0     0.0      0.0  \n",
       "2  0.0    0.0    0.0   0.0     0.0    0.0    0.0  0.0     0.0      0.0  \n",
       "3  0.0    0.0    0.0   0.0     0.0    0.0    0.0  0.0     0.0      0.0  \n",
       "4  0.0    0.0    0.0   0.0     0.0    0.0    0.0  0.0     0.0      0.0  \n",
       "\n",
       "[5 rows x 21593 columns]"
      ]
     },
     "execution_count": 39,
     "metadata": {},
     "output_type": "execute_result"
    }
   ],
   "source": [
    "from sklearn.feature_extraction.text import TfidfVectorizer\n",
    "\n",
    "## YOUR CODE HERE\n",
    "\n",
    "tfidf_vectorizer = TfidfVectorizer()\n",
    "\n",
    "x = tfidf_vectorizer.fit_transform(dataset.data)\n",
    "tfidf = x.toarray()\n",
    "\n",
    "tfidf_matrix = pd.DataFrame(tfidf, columns=tfidf_vectorizer.get_feature_names_out())\n",
    "tfidf_matrix.head()"
   ]
  },
  {
   "cell_type": "markdown",
   "metadata": {
    "id": "vGuAvdpbOcGU"
   },
   "source": [
    "### Problem 3-3 Cluster the documents using K-means\n",
    "- You can use sklearn\n",
    "- Set your own hyperparams"
   ]
  },
  {
   "cell_type": "code",
   "execution_count": 105,
   "metadata": {
    "colab": {
     "base_uri": "https://localhost:8080/"
    },
    "id": "BUu_PZptOcGU",
    "outputId": "d8c8aa26-1f78-4822-cbab-3598da56c9bc"
   },
   "outputs": [
    {
     "name": "stderr",
     "output_type": "stream",
     "text": [
      "D:\\Anaconda\\lib\\site-packages\\sklearn\\cluster\\_kmeans.py:1382: UserWarning: KMeans is known to have a memory leak on Windows with MKL, when there are less chunks than available threads. You can avoid it by setting the environment variable OMP_NUM_THREADS=5.\n",
      "  warnings.warn(\n"
     ]
    },
    {
     "name": "stdout",
     "output_type": "stream",
     "text": [
      "[1, 2, 0, 1, 1, 0, 0, 1, 1, 0]\n"
     ]
    }
   ],
   "source": [
    "from sklearn.cluster import KMeans\n",
    "from sklearn.metrics.pairwise import cosine_similarity\n",
    "\n",
    "## YOUR CODE HERE\n",
    "\n",
    "num_clusters = 3\n",
    "km = KMeans(n_clusters = num_clusters, n_init = 10, max_iter = 500, random_state = 144)\n",
    "km.fit(tfidf_matrix)\n",
    "\n",
    "clusters = km.labels_.tolist()\n",
    "\n",
    "print(clusters[:10])"
   ]
  },
  {
   "cell_type": "markdown",
   "metadata": {
    "id": "jFuvcLXLOcGU"
   },
   "source": [
    "### Problem 3-4 Visualize document clusters\n",
    "- You can use sklearn\n",
    "- It may take a long time to compile"
   ]
  },
  {
   "cell_type": "code",
   "execution_count": 106,
   "metadata": {
    "colab": {
     "base_uri": "https://localhost:8080/"
    },
    "id": "a6wXdEGPOcGU",
    "outputId": "21d17458-a633-41f9-c6ca-205214ae4b70"
   },
   "outputs": [
    {
     "name": "stderr",
     "output_type": "stream",
     "text": [
      "D:\\Anaconda\\lib\\site-packages\\sklearn\\manifold\\_mds.py:299: FutureWarning: The default value of `normalized_stress` will change to `'auto'` in version 1.4. To suppress this warning, manually set the value of `normalized_stress`.\n",
      "  warnings.warn(\n"
     ]
    }
   ],
   "source": [
    "#USE THIS -DO NOT CHANGE-\n",
    "dist = 1 - cosine_similarity(tfidf_matrix)\n",
    "MDS()\n",
    "mds = MDS(n_components=2, dissimilarity=\"precomputed\", random_state=1)\n",
    "pos = mds.fit_transform(dist)\n",
    "xs, ys = pos[:, 0], pos[:, 1]\n",
    "\n",
    "cluster_colors = {0: '#1b9e77', 1: '#d95f02', 2: '#7570b3'}\n",
    "cluster_names = categories"
   ]
  },
  {
   "cell_type": "code",
   "execution_count": 107,
   "metadata": {
    "colab": {
     "base_uri": "https://localhost:8080/",
     "height": 758
    },
    "id": "msLIX_MHOcGV",
    "outputId": "e614d6de-83c8-42a0-a3e5-743e17b4baf1"
   },
   "outputs": [
    {
     "data": {
      "image/png": "[encoded data removed]",
      "text/plain": [
       "<Figure size 1700x900 with 1 Axes>"
      ]
     },
     "metadata": {},
     "output_type": "display_data"
    }
   ],
   "source": [
    "def visualize_clusters(xs, ys, clusters, cluster_names, cluster_colors):\n",
    "    %matplotlib inline \n",
    "    df = pd.DataFrame(dict(x=xs, y=ys, label=clusters))\n",
    "    groups = df.groupby('label')\n",
    "    fig, ax = plt.subplots(figsize=(17, 9))\n",
    "    ax.margins(0.05) \n",
    "    for name, group in groups:\n",
    "        ax.plot(\\\n",
    "            group['x'], \n",
    "            group['y'], \n",
    "            marker = 'o', \n",
    "            markersize = 10,\n",
    "            linestyle = 'None', \n",
    "            label = cluster_names[name], \n",
    "            color = cluster_colors[name]) ## YOUR CODE HERE. (Complete the function call.)\n",
    "        ax.set_aspect('auto')\n",
    "        ax.tick_params(\\\n",
    "            axis= 'x',          \n",
    "            which='both',      \n",
    "            bottom='off',      \n",
    "            top='off',         \n",
    "            labelbottom='off')\n",
    "        ax.tick_params(\\\n",
    "            axis= 'y',         \n",
    "            which='both',     \n",
    "            left='off',     \n",
    "            top='off',      \n",
    "            labelleft='off')\n",
    "    ax.legend(numpoints=1) \n",
    "    plt.show() \n",
    "\n",
    "visualize_clusters(xs, ys, clusters, cluster_names, cluster_colors)"
   ]
  },
  {
   "cell_type": "code",
   "execution_count": null,
   "metadata": {},
   "outputs": [],
   "source": []
  }
 ],
 "metadata": {
  "anaconda-cloud": {},
  "colab": {
   "provenance": []
  },
  "kernelspec": {
   "display_name": "Python 3 (ipykernel)",
   "language": "python",
   "name": "python3"
  },
  "language_info": {
   "codemirror_mode": {
    "name": "ipython",
    "version": 3
   },
   "file_extension": ".py",
   "mimetype": "text/x-python",
   "name": "python",
   "nbconvert_exporter": "python",
   "pygments_lexer": "ipython3",
   "version": "3.9.13"
  }
 },
 "nbformat": 4,
 "nbformat_minor": 1
}
